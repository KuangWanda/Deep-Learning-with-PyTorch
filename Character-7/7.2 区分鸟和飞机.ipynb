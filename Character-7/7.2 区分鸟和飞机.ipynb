{
 "cells": [
  {
   "cell_type": "markdown",
   "id": "1bd3e421-8972-432f-8cf8-622d191cd893",
   "metadata": {},
   "source": [
    "## 7.2.1 构建数据集"
   ]
  },
  {
   "cell_type": "code",
   "execution_count": 1,
   "id": "a79fc7ea-905b-4c5a-8724-f51a590fb9c3",
   "metadata": {},
   "outputs": [],
   "source": [
    "%matplotlib inline\n",
    "from matplotlib import pyplot as plt\n",
    "import torch\n",
    "from torchvision import datasets\n",
    "from torchvision import transforms"
   ]
  },
  {
   "cell_type": "code",
   "execution_count": 26,
   "id": "90eb584a-7675-4332-b29d-d8ce80754d7a",
   "metadata": {},
   "outputs": [],
   "source": [
    "data_path = '../data-unversioned/p1ch7/'\n",
    "cifar10 = datasets.CIFAR10(data_path, train=True, download=False, transform=transforms.ToTensor())\n",
    "cifar10_val = datasets.CIFAR10(data_path, train=False, download=False, transform=transforms.ToTensor())"
   ]
  },
  {
   "cell_type": "code",
   "execution_count": 31,
   "id": "df629c8d-9644-4052-892b-f7e2fb64648e",
   "metadata": {},
   "outputs": [
    {
     "data": {
      "text/plain": [
       "{0: 0, 2: 1}"
      ]
     },
     "execution_count": 31,
     "metadata": {},
     "output_type": "execute_result"
    }
   ],
   "source": [
    "label_map = {0: 0, 2: 1}\n",
    "class_names = ['airplane', 'bird']\n",
    "cifar2 = [(img, label_map[label])\n",
    "           for img, label in cifar10\n",
    "           if label in [0, 2]]\n",
    "cifar2_val = [(img, label_map[label])\n",
    "           for img, label in cifar10_val\n",
    "           if label in [0, 2]]\n",
    "label_map"
   ]
  },
  {
   "cell_type": "markdown",
   "id": "49a64847-eaf5-4dcf-894d-48a28ad3e3c5",
   "metadata": {},
   "source": [
    "## 7.2.2 一个全连接模型"
   ]
  },
  {
   "cell_type": "code",
   "execution_count": 4,
   "id": "29a117f2-8861-41e9-b5d4-b75665abdd39",
   "metadata": {},
   "outputs": [],
   "source": [
    "import torch.nn as nn"
   ]
  },
  {
   "cell_type": "code",
   "execution_count": 5,
   "id": "9659c1d5-feaa-49ca-a434-e01c47c4baa3",
   "metadata": {},
   "outputs": [],
   "source": [
    "n_out = 2\n",
    "model = nn.Sequential(nn.Linear(3072, 512),\n",
    "                     nn.Tanh(),\n",
    "                     nn.Linear(512, n_out))"
   ]
  },
  {
   "cell_type": "markdown",
   "id": "a7aa6711-901c-4a28-b565-ff2838d8f99c",
   "metadata": {},
   "source": [
    "## 7.2.4 用概率表示输出"
   ]
  },
  {
   "cell_type": "code",
   "execution_count": 6,
   "id": "4837cdab-1132-40e4-8069-3aae2608f9d9",
   "metadata": {},
   "outputs": [],
   "source": [
    "def softmax(x):\n",
    "    return torch.exp(x) / torch.exp(x).sum()"
   ]
  },
  {
   "cell_type": "code",
   "execution_count": 7,
   "id": "ad4326a1-f474-4d51-ad37-a2d955b6e05b",
   "metadata": {},
   "outputs": [
    {
     "data": {
      "text/plain": [
       "tensor([0.0900, 0.2447, 0.6652])"
      ]
     },
     "execution_count": 7,
     "metadata": {},
     "output_type": "execute_result"
    }
   ],
   "source": [
    "x = torch.tensor([1., 2., 3.])\n",
    "softmax(x)"
   ]
  },
  {
   "cell_type": "code",
   "execution_count": 8,
   "id": "7b4b0534-90c9-4a7a-ae5e-891879740436",
   "metadata": {},
   "outputs": [
    {
     "data": {
      "text/plain": [
       "tensor(1.)"
      ]
     },
     "execution_count": 8,
     "metadata": {},
     "output_type": "execute_result"
    }
   ],
   "source": [
    "softmax(x).sum()"
   ]
  },
  {
   "cell_type": "code",
   "execution_count": 9,
   "id": "152610f1-6b3f-41d7-a745-1f2c94a9fb0e",
   "metadata": {},
   "outputs": [
    {
     "data": {
      "text/plain": [
       "tensor([[0.0900, 0.2447, 0.6652],\n",
       "        [0.0900, 0.2447, 0.6652]])"
      ]
     },
     "execution_count": 9,
     "metadata": {},
     "output_type": "execute_result"
    }
   ],
   "source": [
    "softmax = nn.Softmax(dim=1)\n",
    "x = torch.tensor([[1.0, 2.0, 3.0],\n",
    "                [1.0, 2.0, 3.0]])\n",
    "softmax(x)"
   ]
  },
  {
   "cell_type": "code",
   "execution_count": 10,
   "id": "1b6757a7-3c7b-427b-811f-9af336a3f1e2",
   "metadata": {},
   "outputs": [],
   "source": [
    "model = nn.Sequential(nn.Linear(3072, 512),\n",
    "                     nn.Tanh(),\n",
    "                     nn.Linear(512, n_out),\n",
    "                     nn.Softmax(dim=1))"
   ]
  },
  {
   "cell_type": "code",
   "execution_count": 11,
   "id": "f3999036-bff0-4a83-a021-2a18a2978586",
   "metadata": {},
   "outputs": [
    {
     "data": {
      "image/png": "[encoded data removed]",
      "text/plain": [
       "<Figure size 640x480 with 1 Axes>"
      ]
     },
     "metadata": {},
     "output_type": "display_data"
    }
   ],
   "source": [
    "img, _ = cifar2[0]\n",
    "# to_tensor = transforms.ToTensor()\n",
    "# img_t = to_tensor(img)\n",
    "plt.imshow(img.permute(1, 2, 0))\n",
    "plt.show()"
   ]
  },
  {
   "cell_type": "code",
   "execution_count": 12,
   "id": "40cc9678-35f4-472e-bf9b-ba9f134d2fd4",
   "metadata": {},
   "outputs": [
    {
     "data": {
      "text/plain": [
       "torch.Size([1, 3072])"
      ]
     },
     "execution_count": 12,
     "metadata": {},
     "output_type": "execute_result"
    }
   ],
   "source": [
    "img_batch = img.view(-1).unsqueeze(0)\n",
    "img_batch.shape"
   ]
  },
  {
   "cell_type": "code",
   "execution_count": 13,
   "id": "ef979032-acdf-4353-869b-141259501336",
   "metadata": {},
   "outputs": [
    {
     "data": {
      "text/plain": [
       "tensor([[0.5770, 0.4230]], grad_fn=<SoftmaxBackward0>)"
      ]
     },
     "execution_count": 13,
     "metadata": {},
     "output_type": "execute_result"
    }
   ],
   "source": [
    "out = model(img_batch)\n",
    "out"
   ]
  },
  {
   "cell_type": "code",
   "execution_count": 14,
   "id": "a5901895-8932-4567-8a05-22acb1643d38",
   "metadata": {},
   "outputs": [
    {
     "data": {
      "text/plain": [
       "tensor([0])"
      ]
     },
     "execution_count": 14,
     "metadata": {},
     "output_type": "execute_result"
    }
   ],
   "source": [
    "_, index = torch.max(out, dim=1)\n",
    "index"
   ]
  },
  {
   "cell_type": "markdown",
   "id": "f7682e56-6bb8-42f7-8f28-78b99cd1c251",
   "metadata": {},
   "source": [
    "## 7.2.5 分类的损失"
   ]
  },
  {
   "cell_type": "code",
   "execution_count": 15,
   "id": "20fcecd9-5113-40e0-8324-130e63f76777",
   "metadata": {},
   "outputs": [],
   "source": [
    "model = nn.Sequential(nn.Linear(3072, 512),\n",
    "                     nn.Tanh(),\n",
    "                     nn.Linear(512, n_out),\n",
    "                     nn.LogSoftmax(dim=1))\n",
    "loss = nn.NLLLoss()"
   ]
  },
  {
   "cell_type": "code",
   "execution_count": 16,
   "id": "38c4c80d-8899-44d0-881d-0b48a342b9af",
   "metadata": {},
   "outputs": [
    {
     "data": {
      "text/plain": [
       "(tensor(0.5866, grad_fn=<NllLossBackward0>), torch.Size([1, 2]))"
      ]
     },
     "execution_count": 16,
     "metadata": {},
     "output_type": "execute_result"
    }
   ],
   "source": [
    "img, label = cifar2[0]\n",
    "out = model(img.view(-1).unsqueeze(0))\n",
    "loss(out, torch.tensor([label])), out.shape"
   ]
  },
  {
   "cell_type": "markdown",
   "id": "9fe40bb9-2f7f-448d-85e6-24e128a69c9c",
   "metadata": {},
   "source": [
    "## 7.2.6 训练分类器"
   ]
  },
  {
   "cell_type": "code",
   "execution_count": 17,
   "id": "735f266c-1355-4996-9556-ee7602cbb28d",
   "metadata": {},
   "outputs": [],
   "source": [
    "import torch.optim as optim"
   ]
  },
  {
   "cell_type": "code",
   "execution_count": 57,
   "id": "d5ba0a4f-69b3-41fa-a9d7-64327d9e8a7a",
   "metadata": {},
   "outputs": [
    {
     "name": "stdout",
     "output_type": "stream",
     "text": [
      "Epoch 0, Loss 1.1925745010375977\n",
      "Epoch 1, Loss 1.5476430654525757\n",
      "Epoch 2, Loss 1.8626878261566162\n",
      "Epoch 3, Loss 2.264798879623413\n",
      "Epoch 4, Loss 2.7325148582458496\n",
      "Epoch 5, Loss 3.1632604598999023\n",
      "Epoch 6, Loss 3.8141212463378906\n",
      "Epoch 7, Loss 3.9412786960601807\n",
      "Epoch 8, Loss 4.225193977355957\n",
      "Epoch 9, Loss 4.067154407501221\n",
      "Epoch 10, Loss 5.04037618637085\n",
      "Epoch 11, Loss 6.164716720581055\n",
      "Epoch 12, Loss 7.250151634216309\n",
      "Epoch 13, Loss 6.8474345207214355\n",
      "Epoch 14, Loss 8.820053100585938\n",
      "Epoch 15, Loss 9.511470794677734\n",
      "Epoch 16, Loss 9.342307090759277\n",
      "Epoch 17, Loss 6.686764240264893\n",
      "Epoch 18, Loss 4.750807762145996\n",
      "Epoch 19, Loss 6.631525039672852\n",
      "Epoch 20, Loss 4.963881492614746\n",
      "Epoch 21, Loss 4.3386640548706055\n",
      "Epoch 22, Loss 11.273807525634766\n",
      "Epoch 23, Loss 10.440705299377441\n",
      "Epoch 24, Loss 6.962867259979248\n",
      "Epoch 25, Loss 3.253070592880249\n",
      "Epoch 26, Loss 3.024091958999634\n",
      "Epoch 27, Loss 4.405821323394775\n",
      "Epoch 28, Loss 12.198453903198242\n",
      "Epoch 29, Loss 6.029188632965088\n",
      "Epoch 30, Loss 7.025801658630371\n",
      "Epoch 31, Loss 11.617582321166992\n",
      "Epoch 32, Loss 10.04622745513916\n",
      "Epoch 33, Loss 8.387516975402832\n",
      "Epoch 34, Loss 11.456269264221191\n",
      "Epoch 35, Loss 11.662496566772461\n",
      "Epoch 36, Loss 3.820399761199951\n",
      "Epoch 37, Loss 10.796574592590332\n",
      "Epoch 38, Loss 5.452453136444092\n",
      "Epoch 39, Loss 5.807971000671387\n",
      "Epoch 40, Loss 10.240557670593262\n",
      "Epoch 41, Loss 12.026285171508789\n",
      "Epoch 42, Loss 8.302913665771484\n",
      "Epoch 43, Loss 12.02425765991211\n",
      "Epoch 44, Loss 3.3405661582946777\n",
      "Epoch 45, Loss 12.293009757995605\n",
      "Epoch 46, Loss 8.743289947509766\n",
      "Epoch 47, Loss 7.466831684112549\n",
      "Epoch 48, Loss 5.797732830047607\n",
      "Epoch 49, Loss 7.020862579345703\n",
      "Epoch 50, Loss 6.53199577331543\n",
      "Epoch 51, Loss 13.370311737060547\n",
      "Epoch 52, Loss 14.693387985229492\n",
      "Epoch 53, Loss 7.498838901519775\n",
      "Epoch 54, Loss 6.0154547691345215\n",
      "Epoch 55, Loss 3.57041597366333\n",
      "Epoch 56, Loss 1.4680960178375244\n",
      "Epoch 57, Loss 5.083127975463867\n",
      "Epoch 58, Loss 10.971848487854004\n",
      "Epoch 59, Loss 12.312413215637207\n",
      "Epoch 60, Loss 10.327342987060547\n",
      "Epoch 61, Loss 11.705538749694824\n",
      "Epoch 62, Loss 3.6364266872406006\n",
      "Epoch 63, Loss 5.206582546234131\n",
      "Epoch 64, Loss 11.138564109802246\n",
      "Epoch 65, Loss 3.626084804534912\n",
      "Epoch 66, Loss 3.677405595779419\n",
      "Epoch 67, Loss 7.299996852874756\n",
      "Epoch 68, Loss 13.255571365356445\n",
      "Epoch 69, Loss 3.2790796756744385\n",
      "Epoch 70, Loss 3.731351137161255\n",
      "Epoch 71, Loss 5.5330023765563965\n",
      "Epoch 72, Loss 3.582475185394287\n",
      "Epoch 73, Loss 4.046984672546387\n",
      "Epoch 74, Loss 3.508476972579956\n",
      "Epoch 75, Loss 3.655940055847168\n",
      "Epoch 76, Loss 12.321791648864746\n",
      "Epoch 77, Loss 11.352371215820312\n",
      "Epoch 78, Loss 3.6253650188446045\n",
      "Epoch 79, Loss 9.106504440307617\n",
      "Epoch 80, Loss 7.246013641357422\n",
      "Epoch 81, Loss 3.284066915512085\n",
      "Epoch 82, Loss 14.075898170471191\n",
      "Epoch 83, Loss 4.6756391525268555\n",
      "Epoch 84, Loss 12.634320259094238\n",
      "Epoch 85, Loss 8.623356819152832\n",
      "Epoch 86, Loss 12.316475868225098\n",
      "Epoch 87, Loss 14.517566680908203\n",
      "Epoch 88, Loss 6.974089622497559\n",
      "Epoch 89, Loss 9.670157432556152\n",
      "Epoch 90, Loss 3.6344780921936035\n",
      "Epoch 91, Loss 12.148648262023926\n",
      "Epoch 92, Loss 3.626270294189453\n",
      "Epoch 93, Loss 3.609478712081909\n",
      "Epoch 94, Loss 3.2601752281188965\n",
      "Epoch 95, Loss 9.813529968261719\n",
      "Epoch 96, Loss 6.570166110992432\n",
      "Epoch 97, Loss 6.330665111541748\n",
      "Epoch 98, Loss 4.106227397918701\n",
      "Epoch 99, Loss 8.266153335571289\n"
     ]
    }
   ],
   "source": [
    "n_epoch = 100\n",
    "learning_rate = 1e-2\n",
    "optimizer = optim.SGD(model.parameters(), lr=learning_rate)\n",
    "loss_fn = nn.NLLLoss()\n",
    "for epoch in range(n_epoch):\n",
    "    for img, label in cifar2:\n",
    "        out = model(img.view(-1).unsqueeze(0))\n",
    "        loss = loss_fn(out, torch.tensor([label]))\n",
    "\n",
    "        optimizer.zero_grad()\n",
    "        loss.backward()\n",
    "        optimizer.step()\n",
    "    print(f\"Epoch {epoch}, Loss {float(loss)}\")"
   ]
  },
  {
   "cell_type": "code",
   "execution_count": 18,
   "id": "5ff17fd8-da2a-43b0-b4cd-2cdbfb78e29d",
   "metadata": {},
   "outputs": [],
   "source": [
    "train_loader = torch.utils.data.DataLoader(cifar2, batch_size=64, shuffle=True)"
   ]
  },
  {
   "cell_type": "code",
   "execution_count": 19,
   "id": "c8baac1a-e0d7-409a-9867-2d7f3762dfef",
   "metadata": {},
   "outputs": [
    {
     "name": "stdout",
     "output_type": "stream",
     "text": [
      "Epoch 0, Loss 0.527211606502533\n",
      "Epoch 1, Loss 0.41103312373161316\n",
      "Epoch 2, Loss 0.5519788861274719\n",
      "Epoch 3, Loss 0.35616472363471985\n",
      "Epoch 4, Loss 0.5757941007614136\n",
      "Epoch 5, Loss 0.46731072664260864\n",
      "Epoch 6, Loss 0.7799959778785706\n",
      "Epoch 7, Loss 0.6500215530395508\n",
      "Epoch 8, Loss 0.3477533161640167\n",
      "Epoch 9, Loss 0.2894394099712372\n",
      "Epoch 10, Loss 0.2796080410480499\n",
      "Epoch 11, Loss 0.2694486379623413\n",
      "Epoch 12, Loss 0.3115825355052948\n",
      "Epoch 13, Loss 0.8182613253593445\n",
      "Epoch 14, Loss 0.34174850583076477\n",
      "Epoch 15, Loss 0.601434051990509\n",
      "Epoch 16, Loss 0.3063657879829407\n",
      "Epoch 17, Loss 0.7163041234016418\n",
      "Epoch 18, Loss 0.5639424324035645\n",
      "Epoch 19, Loss 0.5650554895401001\n",
      "Epoch 20, Loss 0.5877654552459717\n",
      "Epoch 21, Loss 0.33306440711021423\n",
      "Epoch 22, Loss 0.3867652714252472\n",
      "Epoch 23, Loss 0.3494334816932678\n",
      "Epoch 24, Loss 0.26195791363716125\n",
      "Epoch 25, Loss 0.4876689612865448\n",
      "Epoch 26, Loss 0.26840662956237793\n",
      "Epoch 27, Loss 0.5191590785980225\n",
      "Epoch 28, Loss 0.30960193276405334\n",
      "Epoch 29, Loss 0.39998745918273926\n",
      "Epoch 30, Loss 0.38298532366752625\n",
      "Epoch 31, Loss 0.24378551542758942\n",
      "Epoch 32, Loss 0.422420471906662\n",
      "Epoch 33, Loss 0.4559341073036194\n",
      "Epoch 34, Loss 0.5041881203651428\n",
      "Epoch 35, Loss 0.579853355884552\n",
      "Epoch 36, Loss 0.21439650654792786\n",
      "Epoch 37, Loss 0.49835553765296936\n",
      "Epoch 38, Loss 0.818398118019104\n",
      "Epoch 39, Loss 0.5317943096160889\n",
      "Epoch 40, Loss 0.3687174916267395\n",
      "Epoch 41, Loss 0.2772364318370819\n",
      "Epoch 42, Loss 0.41730794310569763\n",
      "Epoch 43, Loss 0.2556436359882355\n",
      "Epoch 44, Loss 0.5746777057647705\n",
      "Epoch 45, Loss 0.286902517080307\n",
      "Epoch 46, Loss 0.38550055027008057\n",
      "Epoch 47, Loss 0.34140732884407043\n",
      "Epoch 48, Loss 0.6716060638427734\n",
      "Epoch 49, Loss 0.33558377623558044\n",
      "Epoch 50, Loss 0.40425485372543335\n",
      "Epoch 51, Loss 0.2525908946990967\n",
      "Epoch 52, Loss 0.4927688241004944\n",
      "Epoch 53, Loss 0.3064653277397156\n",
      "Epoch 54, Loss 0.5876748561859131\n",
      "Epoch 55, Loss 0.25962066650390625\n",
      "Epoch 56, Loss 0.41527777910232544\n",
      "Epoch 57, Loss 0.3376177251338959\n",
      "Epoch 58, Loss 0.14174588024616241\n",
      "Epoch 59, Loss 0.8658336400985718\n",
      "Epoch 60, Loss 0.44465258717536926\n",
      "Epoch 61, Loss 0.16695837676525116\n",
      "Epoch 62, Loss 0.17626848816871643\n",
      "Epoch 63, Loss 0.5440475940704346\n",
      "Epoch 64, Loss 0.29124125838279724\n",
      "Epoch 65, Loss 0.25733309984207153\n",
      "Epoch 66, Loss 0.4967765212059021\n",
      "Epoch 67, Loss 0.42239853739738464\n",
      "Epoch 68, Loss 0.3398284316062927\n",
      "Epoch 69, Loss 0.11252157390117645\n",
      "Epoch 70, Loss 0.5343078970909119\n",
      "Epoch 71, Loss 0.25717154145240784\n",
      "Epoch 72, Loss 0.2519911229610443\n",
      "Epoch 73, Loss 0.13237342238426208\n",
      "Epoch 74, Loss 0.2956458032131195\n",
      "Epoch 75, Loss 0.3562129735946655\n",
      "Epoch 76, Loss 0.21499419212341309\n",
      "Epoch 77, Loss 0.26698511838912964\n",
      "Epoch 78, Loss 0.10416549444198608\n",
      "Epoch 79, Loss 0.2765553593635559\n",
      "Epoch 80, Loss 0.1997712254524231\n",
      "Epoch 81, Loss 0.3778028190135956\n",
      "Epoch 82, Loss 0.3394889235496521\n",
      "Epoch 83, Loss 0.2192716896533966\n",
      "Epoch 84, Loss 0.2087530493736267\n",
      "Epoch 85, Loss 0.18793067336082458\n",
      "Epoch 86, Loss 0.6580601930618286\n",
      "Epoch 87, Loss 0.2934633493423462\n",
      "Epoch 88, Loss 0.6438842415809631\n",
      "Epoch 89, Loss 0.28427278995513916\n",
      "Epoch 90, Loss 0.3242977559566498\n",
      "Epoch 91, Loss 0.3442194163799286\n",
      "Epoch 92, Loss 0.10845229029655457\n",
      "Epoch 93, Loss 0.335661917924881\n",
      "Epoch 94, Loss 0.30477046966552734\n",
      "Epoch 95, Loss 0.2604846954345703\n",
      "Epoch 96, Loss 0.17611998319625854\n",
      "Epoch 97, Loss 0.49352458119392395\n",
      "Epoch 98, Loss 0.17369630932807922\n",
      "Epoch 99, Loss 0.3996035158634186\n"
     ]
    }
   ],
   "source": [
    "model = nn.Sequential(\n",
    "    nn.Linear(3072, 512),\n",
    "    nn.Tanh(),\n",
    "    nn.Linear(512, 2),\n",
    "    nn.LogSoftmax(dim=1)\n",
    ")\n",
    "\n",
    "n_epoch = 100\n",
    "learning_rate = 1e-2\n",
    "optimizer = optim.SGD(model.parameters(), lr=learning_rate)\n",
    "loss_fn = nn.NLLLoss()\n",
    "for epoch in range(n_epoch):\n",
    "    for imgs, labels in train_loader:\n",
    "        batch_size = imgs.shape[0]\n",
    "        outputs = model(imgs.view(batch_size, -1))\n",
    "        loss = loss_fn(outputs, labels)\n",
    "\n",
    "        optimizer.zero_grad()\n",
    "        loss.backward()\n",
    "        optimizer.step()\n",
    "    print(f\"Epoch {epoch}, Loss {float(loss)}\")"
   ]
  },
  {
   "cell_type": "code",
   "execution_count": 55,
   "id": "119f6798-b3fc-414a-9a8f-7817205dbdf8",
   "metadata": {},
   "outputs": [
    {
     "name": "stdout",
     "output_type": "stream",
     "text": [
      "2000\n",
      "Accuracy: 0.749\n"
     ]
    }
   ],
   "source": [
    "val_loader = torch.utils.data.DataLoader(cifar2_val, batch_size=64, shuffle=False)\n",
    "correct = 0\n",
    "total = 0\n",
    "\n",
    "with torch.no_grad():\n",
    "    for imgs, labels in val_loader:\n",
    "        batch_size = imgs.shape[0]\n",
    "        outputs = model(imgs.view(batch_size, -1))  # torch.Size([64, 2])\n",
    "        _, predicted = torch.max(outputs, dim=1)  # torch.Size([64])\n",
    "        total += labels.shape[0]\n",
    "        correct += int((predicted == labels).sum())\n",
    "print(total)\n",
    "print(f\"Accuracy: {float(correct / total)}\")"
   ]
  },
  {
   "cell_type": "code",
   "execution_count": 51,
   "id": "8565a2d2-fc83-47ef-b5d5-18e100d7ace1",
   "metadata": {},
   "outputs": [
    {
     "name": "stdout",
     "output_type": "stream",
     "text": [
      "Epoch 0, Loss 0.5679410696029663\n",
      "Epoch 1, Loss 0.5021273493766785\n",
      "Epoch 2, Loss 0.41848742961883545\n",
      "Epoch 3, Loss 0.5012954473495483\n",
      "Epoch 4, Loss 0.6795152425765991\n",
      "Epoch 5, Loss 0.6311497092247009\n",
      "Epoch 6, Loss 0.3957945704460144\n",
      "Epoch 7, Loss 0.2866017818450928\n",
      "Epoch 8, Loss 0.48903101682662964\n",
      "Epoch 9, Loss 0.3663298189640045\n",
      "Epoch 10, Loss 0.5883415341377258\n",
      "Epoch 11, Loss 0.44536450505256653\n",
      "Epoch 12, Loss 0.5720992684364319\n",
      "Epoch 13, Loss 0.5167372226715088\n",
      "Epoch 14, Loss 0.6821191906929016\n",
      "Epoch 15, Loss 0.5667896270751953\n",
      "Epoch 16, Loss 0.2975349426269531\n",
      "Epoch 17, Loss 0.5554006695747375\n",
      "Epoch 18, Loss 0.2388610988855362\n",
      "Epoch 19, Loss 0.6179236173629761\n",
      "Epoch 20, Loss 0.647311806678772\n",
      "Epoch 21, Loss 0.25633323192596436\n",
      "Epoch 22, Loss 0.5858343839645386\n",
      "Epoch 23, Loss 0.4304242730140686\n",
      "Epoch 24, Loss 0.6274289488792419\n",
      "Epoch 25, Loss 0.40199175477027893\n",
      "Epoch 26, Loss 0.4516570568084717\n",
      "Epoch 27, Loss 0.19547374546527863\n",
      "Epoch 28, Loss 0.36537468433380127\n",
      "Epoch 29, Loss 0.2772653102874756\n",
      "Epoch 30, Loss 0.46352142095565796\n",
      "Epoch 31, Loss 0.7142102718353271\n",
      "Epoch 32, Loss 0.5042169690132141\n",
      "Epoch 33, Loss 0.369624525308609\n",
      "Epoch 34, Loss 0.9136736392974854\n",
      "Epoch 35, Loss 0.7104401588439941\n",
      "Epoch 36, Loss 0.5154945850372314\n",
      "Epoch 37, Loss 0.4032283127307892\n",
      "Epoch 38, Loss 0.3750177323818207\n",
      "Epoch 39, Loss 0.3715380132198334\n",
      "Epoch 40, Loss 0.19534531235694885\n",
      "Epoch 41, Loss 0.37748003005981445\n",
      "Epoch 42, Loss 0.4431123733520508\n",
      "Epoch 43, Loss 0.24875572323799133\n",
      "Epoch 44, Loss 0.38107332587242126\n",
      "Epoch 45, Loss 0.35144034028053284\n",
      "Epoch 46, Loss 0.32752498984336853\n",
      "Epoch 47, Loss 0.4285304546356201\n",
      "Epoch 48, Loss 0.3342060446739197\n",
      "Epoch 49, Loss 0.3385210633277893\n",
      "Epoch 50, Loss 0.519690215587616\n",
      "Epoch 51, Loss 0.3207472562789917\n",
      "Epoch 52, Loss 0.43247395753860474\n",
      "Epoch 53, Loss 0.23218919336795807\n",
      "Epoch 54, Loss 0.42989978194236755\n",
      "Epoch 55, Loss 0.4863182306289673\n",
      "Epoch 56, Loss 0.20472648739814758\n",
      "Epoch 57, Loss 0.24809221923351288\n",
      "Epoch 58, Loss 0.5072128772735596\n",
      "Epoch 59, Loss 0.23951999843120575\n",
      "Epoch 60, Loss 0.25685200095176697\n",
      "Epoch 61, Loss 0.8878334760665894\n",
      "Epoch 62, Loss 0.17482514679431915\n",
      "Epoch 63, Loss 0.5671259164810181\n",
      "Epoch 64, Loss 0.5575687885284424\n",
      "Epoch 65, Loss 0.4488935172557831\n",
      "Epoch 66, Loss 0.19250822067260742\n",
      "Epoch 67, Loss 0.7186224460601807\n",
      "Epoch 68, Loss 0.5187227129936218\n",
      "Epoch 69, Loss 0.128479465842247\n",
      "Epoch 70, Loss 0.562117874622345\n",
      "Epoch 71, Loss 0.34126049280166626\n",
      "Epoch 72, Loss 0.18433226644992828\n",
      "Epoch 73, Loss 0.36519530415534973\n",
      "Epoch 74, Loss 0.3837941586971283\n",
      "Epoch 75, Loss 0.4721136689186096\n",
      "Epoch 76, Loss 0.21015620231628418\n",
      "Epoch 77, Loss 0.24373634159564972\n",
      "Epoch 78, Loss 0.2974812686443329\n",
      "Epoch 79, Loss 0.6365967392921448\n",
      "Epoch 80, Loss 0.2559865415096283\n",
      "Epoch 81, Loss 0.3289637267589569\n",
      "Epoch 82, Loss 0.2206566035747528\n",
      "Epoch 83, Loss 0.08862219750881195\n",
      "Epoch 84, Loss 0.17377296090126038\n",
      "Epoch 85, Loss 0.4095761179924011\n",
      "Epoch 86, Loss 0.42481380701065063\n",
      "Epoch 87, Loss 0.5613219738006592\n",
      "Epoch 88, Loss 0.4424395263195038\n",
      "Epoch 89, Loss 0.2785134017467499\n",
      "Epoch 90, Loss 0.425495982170105\n",
      "Epoch 91, Loss 0.17773200571537018\n",
      "Epoch 92, Loss 0.20845502614974976\n",
      "Epoch 93, Loss 0.2291794866323471\n",
      "Epoch 94, Loss 0.5312532186508179\n",
      "Epoch 95, Loss 0.22229339182376862\n",
      "Epoch 96, Loss 0.5806342959403992\n",
      "Epoch 97, Loss 0.18942001461982727\n",
      "Epoch 98, Loss 0.5360904335975647\n",
      "Epoch 99, Loss 0.5261649489402771\n"
     ]
    }
   ],
   "source": [
    "model = nn.Sequential(\n",
    "    nn.Linear(3072, 1024),\n",
    "    nn.Tanh(),\n",
    "    nn.Linear(1024, 512),\n",
    "    nn.Tanh(),\n",
    "    nn.Linear(512, 128),\n",
    "    nn.Tanh(),\n",
    "    nn.Linear(128, 2)\n",
    ")\n",
    "\n",
    "loss_fn = nn.CrossEntropyLoss()\n",
    "optimizer = optim.SGD(model.parameters(), lr=1e-2)\n",
    "\n",
    "for epoch in range(n_epoch):\n",
    "    for imgs, labels in train_loader:\n",
    "        batch_size = imgs.shape[0]\n",
    "        outputs = model(imgs.view(batch_size, -1))\n",
    "        loss = loss_fn(outputs, labels)\n",
    "        \n",
    "        optimizer.zero_grad()\n",
    "        loss.backward()\n",
    "        optimizer.step()\n",
    "    print(f\"Epoch {epoch}, Loss {loss}\")"
   ]
  },
  {
   "cell_type": "code",
   "execution_count": 56,
   "id": "0d01060a-9b34-4744-95d3-2310878cd152",
   "metadata": {},
   "outputs": [
    {
     "name": "stdout",
     "output_type": "stream",
     "text": [
      "Accuracy: 0.755\n"
     ]
    }
   ],
   "source": [
    "total = 0\n",
    "correct = 0\n",
    "\n",
    "val_loader = torch.utils.data.DataLoader(cifar2_val, batch_size=64, shuffle=False)\n",
    "with torch.no_grad():\n",
    "    for imgs, labels in train_loader:\n",
    "        total += imgs.shape[0]\n",
    "        batch_size = imgs.shape[0]\n",
    "        outputs = model(imgs.view(batch_size, -1))\n",
    "        _, predicted = torch.max(outputs, dim=1)\n",
    "        correct += int((predicted == labels).sum())\n",
    "    print(f\"Accuracy: {float(correct / total)}\")"
   ]
  },
  {
   "cell_type": "code",
   "execution_count": 58,
   "id": "1d4540f7-5a87-4605-b012-fa2b993f9451",
   "metadata": {},
   "outputs": [
    {
     "data": {
      "text/plain": [
       "(3737474, [3145728, 1024, 524288, 512, 65536, 128, 256, 2])"
      ]
     },
     "execution_count": 58,
     "metadata": {},
     "output_type": "execute_result"
    }
   ],
   "source": [
    "numel_list = [p.numel()\n",
    "             for p in model.parameters()\n",
    "             if p.requires_grad == True]\n",
    "sum(numel_list), numel_list"
   ]
  },
  {
   "cell_type": "code",
   "execution_count": null,
   "id": "6ef66d5c-2cec-433c-83be-e8f8047e6444",
   "metadata": {},
   "outputs": [],
   "source": []
  }
 ],
 "metadata": {
  "kernelspec": {
   "display_name": "Python 3 (ipykernel)",
   "language": "python",
   "name": "python3"
  },
  "language_info": {
   "codemirror_mode": {
    "name": "ipython",
    "version": 3
   },
   "file_extension": ".py",
   "mimetype": "text/x-python",
   "name": "python",
   "nbconvert_exporter": "python",
   "pygments_lexer": "ipython3",
   "version": "3.12.7"
  }
 },
 "nbformat": 4,
 "nbformat_minor": 5
}
