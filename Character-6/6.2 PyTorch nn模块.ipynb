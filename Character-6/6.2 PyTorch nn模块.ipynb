{
 "cells": [
  {
   "cell_type": "markdown",
   "id": "3cdf7a8b-fbcd-4a0d-a4ca-17ff3d0e0874",
   "metadata": {},
   "source": [
    "## 6.2.1 使用__call_()而不是forward()"
   ]
  },
  {
   "cell_type": "code",
   "execution_count": 50,
   "id": "173bec94-8232-4c64-a0ff-327320c74670",
   "metadata": {},
   "outputs": [],
   "source": [
    "import torch.nn as nn\n",
    "import torch\n",
    "from torch import optim"
   ]
  },
  {
   "cell_type": "code",
   "execution_count": 51,
   "id": "e0a2c54c-a26f-4d71-adb5-b092f19522e4",
   "metadata": {},
   "outputs": [
    {
     "data": {
      "text/plain": [
       "torch.Size([11, 1])"
      ]
     },
     "execution_count": 51,
     "metadata": {},
     "output_type": "execute_result"
    }
   ],
   "source": [
    "t_c = [0.5,  14.0, 15.0, 28.0, 11.0,  8.0,  3.0, -4.0,  6.0, 13.0, 21.0]\n",
    "t_u = [35.7, 55.9, 58.2, 81.9, 56.3, 48.9, 33.9, 21.8, 48.4, 60.4, 68.4]\n",
    "t_c = torch.tensor(t_c).unsqueeze(1) # <1>\n",
    "t_u = torch.tensor(t_u).unsqueeze(1) # <1>\n",
    "\n",
    "t_u.shape"
   ]
  },
  {
   "cell_type": "code",
   "execution_count": 52,
   "id": "0bbe0626-18e0-47e9-bfff-092620d66c2c",
   "metadata": {},
   "outputs": [
    {
     "data": {
      "text/plain": [
       "(tensor([ 9,  8, 10,  6,  2,  1,  5,  0,  3]), tensor([4, 7]))"
      ]
     },
     "execution_count": 52,
     "metadata": {},
     "output_type": "execute_result"
    }
   ],
   "source": [
    "n_samples = t_u.shape[0]\n",
    "n_val = int(0.2 * n_samples)\n",
    "\n",
    "shuffled_indices = torch.randperm(n_samples)\n",
    "\n",
    "train_indices = shuffled_indices[:-n_val]\n",
    "val_indices = shuffled_indices[-n_val:]\n",
    "\n",
    "train_indices, val_indices"
   ]
  },
  {
   "cell_type": "code",
   "execution_count": 53,
   "id": "e006aa27-2689-4e01-aede-bd1462525d96",
   "metadata": {},
   "outputs": [],
   "source": [
    "t_u_train = t_u[train_indices]\n",
    "t_c_train = t_c[train_indices]\n",
    "\n",
    "t_u_val = t_u[val_indices]\n",
    "t_c_val = t_c[val_indices]\n",
    "\n",
    "t_un_train = 0.1 * t_u_train\n",
    "t_un_val = 0.1 * t_u_val"
   ]
  },
  {
   "cell_type": "code",
   "execution_count": 54,
   "id": "36e00ca5-5e79-41b6-9693-9b4626c4766c",
   "metadata": {},
   "outputs": [
    {
     "data": {
      "text/plain": [
       "tensor([[2.8837],\n",
       "        [0.5645]], grad_fn=<AddmmBackward0>)"
      ]
     },
     "execution_count": 54,
     "metadata": {},
     "output_type": "execute_result"
    }
   ],
   "source": [
    "liner_model = nn.Linear(1, 1)\n",
    "liner_model(t_un_val)"
   ]
  },
  {
   "cell_type": "markdown",
   "id": "6f10a822-e1c1-415d-95f9-9d8f504a3d57",
   "metadata": {},
   "source": [
    "## 6.2.2 回到线性模型"
   ]
  },
  {
   "cell_type": "code",
   "execution_count": 55,
   "id": "e0970b05-3f5c-4427-afdd-b108557efa07",
   "metadata": {},
   "outputs": [
    {
     "data": {
      "text/plain": [
       "tensor([[0.4532],\n",
       "        [0.1835]], grad_fn=<AddmmBackward0>)"
      ]
     },
     "execution_count": 55,
     "metadata": {},
     "output_type": "execute_result"
    }
   ],
   "source": [
    "liner_model = nn.Linear(1, 1)\n",
    "liner_model(t_un_val)"
   ]
  },
  {
   "cell_type": "code",
   "execution_count": 56,
   "id": "87315cb0-cc43-4df2-9882-8f17cb73a254",
   "metadata": {},
   "outputs": [
    {
     "data": {
      "text/plain": [
       "Parameter containing:\n",
       "tensor([[0.0782]], requires_grad=True)"
      ]
     },
     "execution_count": 56,
     "metadata": {},
     "output_type": "execute_result"
    }
   ],
   "source": [
    "liner_model.weight"
   ]
  },
  {
   "cell_type": "code",
   "execution_count": 57,
   "id": "22890986-654a-49ae-8f02-fef87e5163b8",
   "metadata": {},
   "outputs": [
    {
     "data": {
      "text/plain": [
       "Parameter containing:\n",
       "tensor([0.0131], requires_grad=True)"
      ]
     },
     "execution_count": 57,
     "metadata": {},
     "output_type": "execute_result"
    }
   ],
   "source": [
    "liner_model.bias"
   ]
  },
  {
   "cell_type": "code",
   "execution_count": 58,
   "id": "b291eb05-6a7b-4158-91c6-56170f989117",
   "metadata": {},
   "outputs": [
    {
     "data": {
      "text/plain": [
       "tensor([0.0913], grad_fn=<ViewBackward0>)"
      ]
     },
     "execution_count": 58,
     "metadata": {},
     "output_type": "execute_result"
    }
   ],
   "source": [
    "x = torch.ones(1)\n",
    "liner_model(x)"
   ]
  },
  {
   "cell_type": "code",
   "execution_count": 59,
   "id": "f58dc6d1-6f64-49df-93bd-bb3ea899bc24",
   "metadata": {},
   "outputs": [
    {
     "data": {
      "text/plain": [
       "tensor([[0.0913],\n",
       "        [0.0913],\n",
       "        [0.0913],\n",
       "        [0.0913],\n",
       "        [0.0913],\n",
       "        [0.0913],\n",
       "        [0.0913],\n",
       "        [0.0913],\n",
       "        [0.0913],\n",
       "        [0.0913]], grad_fn=<AddmmBackward0>)"
      ]
     },
     "execution_count": 59,
     "metadata": {},
     "output_type": "execute_result"
    }
   ],
   "source": [
    "# 1. 批量输入\n",
    "x = torch.ones(10, 1)\n",
    "liner_model(x)"
   ]
  },
  {
   "cell_type": "code",
   "execution_count": 60,
   "id": "d61b0f80-df6e-424b-ba86-e62b25b34b9e",
   "metadata": {},
   "outputs": [],
   "source": [
    "# 2. 优化批次\n",
    "liner_model = nn.Linear(1, 1)\n",
    "optimizer = optim.SGD(liner_model.parameters(), lr=1e-2)"
   ]
  },
  {
   "cell_type": "code",
   "execution_count": 61,
   "id": "b10ba159-a1bb-4370-a503-daa24350e10f",
   "metadata": {},
   "outputs": [
    {
     "data": {
      "text/plain": [
       "<generator object Module.parameters at 0x7f17266e1b60>"
      ]
     },
     "execution_count": 61,
     "metadata": {},
     "output_type": "execute_result"
    }
   ],
   "source": [
    "liner_model.parameters()"
   ]
  },
  {
   "cell_type": "code",
   "execution_count": 62,
   "id": "916b2bd9-5544-483a-bd28-bb8c9b15469d",
   "metadata": {},
   "outputs": [
    {
     "data": {
      "text/plain": [
       "[Parameter containing:\n",
       " tensor([[-0.0930]], requires_grad=True),\n",
       " Parameter containing:\n",
       " tensor([-0.2163], requires_grad=True)]"
      ]
     },
     "execution_count": 62,
     "metadata": {},
     "output_type": "execute_result"
    }
   ],
   "source": [
    "list(liner_model.parameters())"
   ]
  },
  {
   "cell_type": "code",
   "execution_count": 63,
   "id": "cf31260f-99a0-4c16-84b2-69ccf0fd6843",
   "metadata": {},
   "outputs": [],
   "source": [
    "def training_loop(n_epochs, optimizer, model, loss_fn, t_u_train, t_u_val, t_c_train, t_c_val):\n",
    "    for epoch in range(1, n_epochs + 1):\n",
    "        t_p_train = model(t_u_train)\n",
    "        loss_train = loss_fn(t_p_train, t_c_train)\n",
    "\n",
    "        t_p_val = model(t_u_val)\n",
    "        loss_val = loss_fn(t_p_val, t_c_val)\n",
    "\n",
    "        optimizer.zero_grad()\n",
    "        loss_train.backward()\n",
    "        optimizer.step()\n",
    "\n",
    "        if epoch == 1 or epoch % 100 == 0:\n",
    "            print(f\"Epoch {epoch}, Train loss {loss_train.item():.4f}, Val loss {loss_val.item():.4f}\")"
   ]
  },
  {
   "cell_type": "code",
   "execution_count": 64,
   "id": "a9ad42d1-94f3-4a20-b3dc-08e513f63e59",
   "metadata": {},
   "outputs": [
    {
     "name": "stdout",
     "output_type": "stream",
     "text": [
      "Epoch 1, Train loss 233.9701, Val loss 75.3238\n",
      "Epoch 100, Train loss 21.0432, Val loss 35.4752\n",
      "Epoch 200, Train loss 16.9943, Val loss 26.1231\n",
      "Epoch 300, Train loss 13.8389, Val loss 19.1502\n",
      "Epoch 400, Train loss 11.3798, Val loss 13.9944\n",
      "Epoch 500, Train loss 9.4634, Val loss 10.2222\n",
      "Epoch 600, Train loss 7.9699, Val loss 7.4994\n",
      "Epoch 700, Train loss 6.8060, Val loss 5.5691\n",
      "Epoch 800, Train loss 5.8990, Val loss 4.2337\n",
      "Epoch 900, Train loss 5.1921, Val loss 3.3424\n",
      "Epoch 1000, Train loss 4.6411, Val loss 2.7795\n",
      "Epoch 1100, Train loss 4.2118, Val loss 2.4572\n",
      "Epoch 1200, Train loss 3.8772, Val loss 2.3087\n",
      "Epoch 1300, Train loss 3.6165, Val loss 2.2836\n",
      "Epoch 1400, Train loss 3.4133, Val loss 2.3441\n",
      "Epoch 1500, Train loss 3.2549, Val loss 2.4619\n",
      "Epoch 1600, Train loss 3.1315, Val loss 2.6161\n",
      "Epoch 1700, Train loss 3.0353, Val loss 2.7913\n",
      "Epoch 1800, Train loss 2.9603, Val loss 2.9764\n",
      "Epoch 1900, Train loss 2.9019, Val loss 3.1636\n",
      "Epoch 2000, Train loss 2.8564, Val loss 3.3474\n",
      "Epoch 2100, Train loss 2.8209, Val loss 3.5241\n",
      "Epoch 2200, Train loss 2.7933, Val loss 3.6913\n",
      "Epoch 2300, Train loss 2.7717, Val loss 3.8477\n",
      "Epoch 2400, Train loss 2.7549, Val loss 3.9925\n",
      "Epoch 2500, Train loss 2.7419, Val loss 4.1257\n",
      "Epoch 2600, Train loss 2.7317, Val loss 4.2475\n",
      "Epoch 2700, Train loss 2.7237, Val loss 4.3582\n",
      "Epoch 2800, Train loss 2.7175, Val loss 4.4584\n",
      "Epoch 2900, Train loss 2.7127, Val loss 4.5489\n",
      "Epoch 3000, Train loss 2.7089, Val loss 4.6303\n"
     ]
    }
   ],
   "source": [
    "training_loop(3000, optimizer, liner_model, nn.MSELoss(), t_un_train, t_un_val, t_c_train, t_c_val)"
   ]
  },
  {
   "cell_type": "code",
   "execution_count": null,
   "id": "919025f8-9dd8-4773-a88b-2d439eb414af",
   "metadata": {},
   "outputs": [],
   "source": []
  }
 ],
 "metadata": {
  "kernelspec": {
   "display_name": "Python 3 (ipykernel)",
   "language": "python",
   "name": "python3"
  },
  "language_info": {
   "codemirror_mode": {
    "name": "ipython",
    "version": 3
   },
   "file_extension": ".py",
   "mimetype": "text/x-python",
   "name": "python",
   "nbconvert_exporter": "python",
   "pygments_lexer": "ipython3",
   "version": "3.12.7"
  }
 },
 "nbformat": 4,
 "nbformat_minor": 5
}
