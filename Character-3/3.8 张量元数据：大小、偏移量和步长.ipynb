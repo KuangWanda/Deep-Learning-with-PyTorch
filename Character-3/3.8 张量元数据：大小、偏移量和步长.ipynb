{
 "cells": [
  {
   "cell_type": "markdown",
   "id": "8e243ca5-2ca4-4564-a038-eb4789d45b50",
   "metadata": {},
   "source": [
    "## 3.8.1 另一个张量的存储视图"
   ]
  },
  {
   "cell_type": "code",
   "execution_count": 2,
   "id": "c5e5d7e5-2b87-4248-8569-0b3d45fa194a",
   "metadata": {},
   "outputs": [],
   "source": [
    "import torch"
   ]
  },
  {
   "cell_type": "code",
   "execution_count": 12,
   "id": "51876ef0-f880-4823-a316-6e259cbe01cc",
   "metadata": {},
   "outputs": [
    {
     "name": "stdout",
     "output_type": "stream",
     "text": [
      "2\n"
     ]
    },
    {
     "data": {
      "text/plain": [
       "torch.Size([2])"
      ]
     },
     "execution_count": 12,
     "metadata": {},
     "output_type": "execute_result"
    }
   ],
   "source": [
    "points = torch.tensor([4., 1., 5., 3., 2., 1.]).reshape(3, 2)\n",
    "second_points = points[1]\n",
    "print(second_points.storage_offset())  # 返回的是相对于起始元素的偏移位置\n",
    "second_points.size()"
   ]
  },
  {
   "cell_type": "code",
   "execution_count": 14,
   "id": "685edee7-0c43-4d3a-a43f-463455e2e8d2",
   "metadata": {},
   "outputs": [
    {
     "name": "stdout",
     "output_type": "stream",
     "text": [
      "points.stride =  (2, 1)\n",
      "second_points.stride =  (1,)\n"
     ]
    }
   ],
   "source": [
    "print(\"points.stride = \", points.stride())  # 返回张量的步长，行/列步长就是第0个元素移动到下一行/列所需要移动的步数\n",
    "print(\"second_points.stride = \", second_points.stride())"
   ]
  },
  {
   "cell_type": "code",
   "execution_count": 15,
   "id": "e646a4bc-e03b-412c-ab4c-7ef307b6a273",
   "metadata": {},
   "outputs": [
    {
     "data": {
      "text/plain": [
       "tensor([[  4.,   1.],\n",
       "        [100.,   3.],\n",
       "        [  2.,   1.]])"
      ]
     },
     "execution_count": 15,
     "metadata": {},
     "output_type": "execute_result"
    }
   ],
   "source": [
    "second_points[0] = 100.  # 子张量和原张量共用一块存储空间\n",
    "points"
   ]
  },
  {
   "cell_type": "code",
   "execution_count": 17,
   "id": "4270d4d7-a40a-40b4-af5d-df32604c7834",
   "metadata": {},
   "outputs": [
    {
     "data": {
      "text/plain": [
       "tensor([[  4.,   1.],\n",
       "        [100.,   3.],\n",
       "        [  2.,   1.]])"
      ]
     },
     "execution_count": 17,
     "metadata": {},
     "output_type": "execute_result"
    }
   ],
   "source": [
    "second_points_clone = points[1].clone()  # 将子张量复制为一个新的张量\n",
    "second_points_clone[0] = 10.\n",
    "points"
   ]
  },
  {
   "cell_type": "markdown",
   "id": "6de97b98-490f-43ef-a51b-48f3c2aa67bd",
   "metadata": {},
   "source": [
    "## 3.8.2 无复制转置"
   ]
  },
  {
   "cell_type": "code",
   "execution_count": 27,
   "id": "04f6193f-f9ff-495f-a44f-90733fb6f876",
   "metadata": {},
   "outputs": [],
   "source": [
    "points = torch.tensor([4., 1., 5., 3., 2., 1.]).reshape(3, 2)"
   ]
  },
  {
   "cell_type": "code",
   "execution_count": 28,
   "id": "a2cd47f5-1579-47ed-81dc-53ff3c140387",
   "metadata": {},
   "outputs": [
    {
     "data": {
      "text/plain": [
       "tensor([[4., 5., 2.],\n",
       "        [1., 3., 1.]])"
      ]
     },
     "execution_count": 28,
     "metadata": {},
     "output_type": "execute_result"
    }
   ],
   "source": [
    "points_t = points.t()\n",
    "points_t"
   ]
  },
  {
   "cell_type": "code",
   "execution_count": 29,
   "id": "0e034e0d-b9c4-4342-bdb0-121ee75027a0",
   "metadata": {},
   "outputs": [
    {
     "data": {
      "text/plain": [
       "(1, 2)"
      ]
     },
     "execution_count": 29,
     "metadata": {},
     "output_type": "execute_result"
    }
   ],
   "source": [
    "points_t.stride()  # 转置之后的张量在内存中的存储方式没有发生变化，还是 4 1 5 2 2 1，因此移动到下一行1需要一步，移动到下一列5需要两步"
   ]
  },
  {
   "cell_type": "code",
   "execution_count": 38,
   "id": "16b037cd-62d7-4199-a23f-dc86bf58dabf",
   "metadata": {},
   "outputs": [
    {
     "data": {
      "text/plain": [
       "True"
      ]
     },
     "execution_count": 38,
     "metadata": {},
     "output_type": "execute_result"
    }
   ],
   "source": [
    "points_t.storage().data_ptr() == points.storage().data_ptr()"
   ]
  },
  {
   "cell_type": "markdown",
   "id": "b27fdcdf-c59c-4251-b973-dc01a2fcfe2b",
   "metadata": {},
   "source": [
    "## 3.8.3 高维传置"
   ]
  },
  {
   "cell_type": "code",
   "execution_count": 41,
   "id": "4700fab7-3ab0-4422-816f-aa348b03a59f",
   "metadata": {},
   "outputs": [
    {
     "data": {
      "text/plain": [
       "torch.Size([5, 4, 3])"
      ]
     },
     "execution_count": 41,
     "metadata": {},
     "output_type": "execute_result"
    }
   ],
   "source": [
    "some_t = torch.ones(3, 4, 5)\n",
    "transpose_t = some_t.transpose(0, 2)  # 指定维度进行转置\n",
    "transpose_t.shape"
   ]
  },
  {
   "cell_type": "code",
   "execution_count": 43,
   "id": "7f8c0a0f-cfa9-4872-8e93-471149a52508",
   "metadata": {},
   "outputs": [
    {
     "name": "stdout",
     "output_type": "stream",
     "text": [
      "some_t.stride =  (20, 5, 1)\n",
      "transpose_t.stride =  (1, 5, 20)\n"
     ]
    }
   ],
   "source": [
    "print(\"some_t.stride = \", some_t.stride())\n",
    "print(\"transpose_t.stride = \", transpose_t.stride())  # stride的结果也进行了转置"
   ]
  },
  {
   "cell_type": "markdown",
   "id": "be3458a4-21b4-465b-bb57-9ebd046a1862",
   "metadata": {},
   "source": [
    "## 3.8.4 连续张量"
   ]
  },
  {
   "cell_type": "code",
   "execution_count": 46,
   "id": "193910d3-06d9-4992-8c9c-e1057f073906",
   "metadata": {},
   "outputs": [
    {
     "data": {
      "text/plain": [
       "True"
      ]
     },
     "execution_count": 46,
     "metadata": {},
     "output_type": "execute_result"
    }
   ],
   "source": [
    "points.is_contiguous()  # 连续张量"
   ]
  },
  {
   "cell_type": "code",
   "execution_count": 47,
   "id": "bd51ea45-0fa0-4905-ab4a-fda4ba952430",
   "metadata": {},
   "outputs": [
    {
     "data": {
      "text/plain": [
       "False"
      ]
     },
     "execution_count": 47,
     "metadata": {},
     "output_type": "execute_result"
    }
   ],
   "source": [
    "points_t.is_contiguous()  # 非连续张量"
   ]
  },
  {
   "cell_type": "code",
   "execution_count": 49,
   "id": "26341249-aae4-46df-aa58-2adb2a6faac0",
   "metadata": {},
   "outputs": [
    {
     "data": {
      "text/plain": [
       "True"
      ]
     },
     "execution_count": 49,
     "metadata": {},
     "output_type": "execute_result"
    }
   ],
   "source": [
    "points_t_cont = points_t.contiguous()\n",
    "points_t_cont.is_contiguous()"
   ]
  },
  {
   "cell_type": "code",
   "execution_count": 50,
   "id": "55e83206-4463-4249-bdf5-3b2b49f1cd69",
   "metadata": {},
   "outputs": [
    {
     "data": {
      "text/plain": [
       " 4.0\n",
       " 5.0\n",
       " 2.0\n",
       " 1.0\n",
       " 3.0\n",
       " 1.0\n",
       "[torch.storage.TypedStorage(dtype=torch.float32, device=cpu) of size 6]"
      ]
     },
     "execution_count": 50,
     "metadata": {},
     "output_type": "execute_result"
    }
   ],
   "source": [
    "points_t_cont.storage()  # 改变了存储结构"
   ]
  },
  {
   "cell_type": "code",
   "execution_count": 51,
   "id": "83fd2ea0-5717-4c08-b95b-0a6fc9e9a928",
   "metadata": {},
   "outputs": [
    {
     "data": {
      "text/plain": [
       " 4.0\n",
       " 1.0\n",
       " 5.0\n",
       " 3.0\n",
       " 2.0\n",
       " 1.0\n",
       "[torch.storage.TypedStorage(dtype=torch.float32, device=cpu) of size 6]"
      ]
     },
     "execution_count": 51,
     "metadata": {},
     "output_type": "execute_result"
    }
   ],
   "source": [
    "points_t.storage()  # 原张量存储结构不变"
   ]
  }
 ],
 "metadata": {
  "kernelspec": {
   "display_name": "Python 3 (ipykernel)",
   "language": "python",
   "name": "python3"
  },
  "language_info": {
   "codemirror_mode": {
    "name": "ipython",
    "version": 3
   },
   "file_extension": ".py",
   "mimetype": "text/x-python",
   "name": "python",
   "nbconvert_exporter": "python",
   "pygments_lexer": "ipython3",
   "version": "3.12.7"
  }
 },
 "nbformat": 4,
 "nbformat_minor": 5
}
