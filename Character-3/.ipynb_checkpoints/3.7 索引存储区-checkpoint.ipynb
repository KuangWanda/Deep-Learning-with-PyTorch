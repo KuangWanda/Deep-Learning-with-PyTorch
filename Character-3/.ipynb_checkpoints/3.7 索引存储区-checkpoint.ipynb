{
 "cells": [
  {
   "cell_type": "markdown",
   "id": "89546556-b3b4-489b-8530-3aa0686b21a0",
   "metadata": {},
   "source": [
    "## 3.7.1 索引存储区"
   ]
  },
  {
   "cell_type": "code",
   "execution_count": 2,
   "id": "4fce10b4-fd30-4177-9ede-85dba4732f9b",
   "metadata": {},
   "outputs": [],
   "source": [
    "import torch"
   ]
  },
  {
   "cell_type": "code",
   "execution_count": 3,
   "id": "84bcf5d1-90be-451f-a7d5-02ebbd6eb664",
   "metadata": {},
   "outputs": [
    {
     "data": {
      "text/plain": [
       "tensor([[4., 1.],\n",
       "        [5., 3.],\n",
       "        [2., 1.]])"
      ]
     },
     "execution_count": 3,
     "metadata": {},
     "output_type": "execute_result"
    }
   ],
   "source": [
    "points = torch.tensor([4., 1., 5., 3., 2., 1.], dtype=torch.float).reshape(3, 2)\n",
    "points"
   ]
  },
  {
   "cell_type": "code",
   "execution_count": 14,
   "id": "b43eb79d-0246-4a15-ba33-1f98bbd2227b",
   "metadata": {},
   "outputs": [
    {
     "data": {
      "text/plain": [
       " 100.0\n",
       " 1.0\n",
       " 5.0\n",
       " 3.0\n",
       " 2.0\n",
       " 1.0\n",
       "[torch.storage.TypedStorage(dtype=torch.float32, device=cpu) of size 6]"
      ]
     },
     "execution_count": 14,
     "metadata": {},
     "output_type": "execute_result"
    }
   ],
   "source": [
    "points.storage()  # 即将废弃\n",
    "# points.untyped_storage()  # 直接使用会出现问题，即会将对应地址空间的数据每四位按照十进制进行输出，例如存储int数据4，内存中是0x00000004，输出就是0 0 0 0 0 0 0 4\n",
    "# l = [1, 2, 3]\n",
    "# torch.UntypedStorage(l).float()  将列表元素连续存储并将数据变成float类型"
   ]
  },
  {
   "cell_type": "code",
   "execution_count": 10,
   "id": "ca42d8f1-c2fe-4835-8d0f-179136ab60bc",
   "metadata": {},
   "outputs": [
    {
     "data": {
      "text/plain": [
       "tensor([[100.,   1.],\n",
       "        [  5.,   3.],\n",
       "        [  2.,   1.]])"
      ]
     },
     "execution_count": 10,
     "metadata": {},
     "output_type": "execute_result"
    }
   ],
   "source": [
    "points_storage = points.storage()\n",
    "points_storage[0] = 100.\n",
    "points\n",
    "# points.size()  # torch.Size([3, 2])"
   ]
  },
  {
   "cell_type": "code",
   "execution_count": 13,
   "id": "08eb6d0a-85c2-4134-9ce2-166a72c86ea1",
   "metadata": {},
   "outputs": [
    {
     "data": {
      "text/plain": [
       " 0.0\n",
       " 0.0\n",
       " 200.0\n",
       " 66.0\n",
       " 0.0\n",
       " 0.0\n",
       " 128.0\n",
       " 63.0\n",
       " 0.0\n",
       " 0.0\n",
       " 160.0\n",
       " 64.0\n",
       " 0.0\n",
       " 0.0\n",
       " 64.0\n",
       " 64.0\n",
       " 0.0\n",
       " 0.0\n",
       " 0.0\n",
       " 64.0\n",
       " 0.0\n",
       " 0.0\n",
       " 128.0\n",
       " 63.0\n",
       "[torch.storage.TypedStorage(dtype=torch.float32, device=cpu) of size 24]"
      ]
     },
     "execution_count": 13,
     "metadata": {},
     "output_type": "execute_result"
    }
   ],
   "source": [
    "# points_storage = points.untyped_storage()  # 返回UntypedStorage类的对象，里面涉及了高级抽象类和低级存储类的知识\n",
    "\n",
    "#  在创建一个Tensor对象的同时，创建了一个UntypedStorage的对象并作为Tensor对象的一个属性\n",
    "\n",
    "\n",
    "# points_storage.float()\n",
    "# points_storage.size()  # 24"
   ]
  },
  {
   "cell_type": "markdown",
   "id": "d8ae610f-c203-4ede-9a80-43b1bd83bc93",
   "metadata": {},
   "source": [
    "## 3.7.2 修改存储值：就地操作"
   ]
  },
  {
   "cell_type": "code",
   "execution_count": 18,
   "id": "ba929e36-759d-4327-8c7f-3ebdb0aaa263",
   "metadata": {},
   "outputs": [
    {
     "data": {
      "text/plain": [
       "tensor([[0., 0.],\n",
       "        [0., 0.],\n",
       "        [0., 0.]])"
      ]
     },
     "execution_count": 18,
     "metadata": {},
     "output_type": "execute_result"
    }
   ],
   "source": [
    "a = torch.ones(3,2)\n",
    "a.zero_()  # 直接在原有张量上进行修改，不会新建一个张量\n",
    "a"
   ]
  }
 ],
 "metadata": {
  "kernelspec": {
   "display_name": "Python 3 (ipykernel)",
   "language": "python",
   "name": "python3"
  },
  "language_info": {
   "codemirror_mode": {
    "name": "ipython",
    "version": 3
   },
   "file_extension": ".py",
   "mimetype": "text/x-python",
   "name": "python",
   "nbconvert_exporter": "python",
   "pygments_lexer": "ipython3",
   "version": "3.12.7"
  }
 },
 "nbformat": 4,
 "nbformat_minor": 5
}
