{
 "cells": [
  {
   "cell_type": "markdown",
   "id": "c9a4b7c0-2fde-4770-9701-8abc11b5463a",
   "metadata": {},
   "source": [
    "# 3.5 张量的元素类型"
   ]
  },
  {
   "cell_type": "markdown",
   "id": "df82aefd-76c0-4788-8390-cd0a91138fed",
   "metadata": {},
   "source": [
    "## 3.5.3 管理张量的dtype属性"
   ]
  },
  {
   "cell_type": "code",
   "execution_count": 4,
   "id": "373398d7-fda2-4846-b688-65d5b1c3e038",
   "metadata": {},
   "outputs": [],
   "source": [
    "import torch"
   ]
  },
  {
   "cell_type": "code",
   "execution_count": 7,
   "id": "27ae6efa-db08-4e0b-9829-09dbeb93ca28",
   "metadata": {},
   "outputs": [
    {
     "data": {
      "text/plain": [
       "(tensor([[1., 1.],\n",
       "         [1., 1.],\n",
       "         [1., 1.],\n",
       "         [1., 1.],\n",
       "         [1., 1.],\n",
       "         [1., 1.],\n",
       "         [1., 1.],\n",
       "         [1., 1.],\n",
       "         [1., 1.],\n",
       "         [1., 1.]], dtype=torch.float64),\n",
       " tensor([[1, 2],\n",
       "         [3, 4]], dtype=torch.int16))"
      ]
     },
     "execution_count": 7,
     "metadata": {},
     "output_type": "execute_result"
    }
   ],
   "source": [
    "# 创建时提供dtype关键字\n",
    "double_points = torch.ones(10, 2, dtype=torch.double)\n",
    "short_points = torch.tensor([[1, 2], [3, 4]], dtype=torch.short)\n",
    "double_points, short_points"
   ]
  },
  {
   "cell_type": "code",
   "execution_count": 10,
   "id": "5839da06-7cd5-46d7-a6d4-9f4da15ec5d9",
   "metadata": {},
   "outputs": [
    {
     "data": {
      "text/plain": [
       "torch.int16"
      ]
     },
     "execution_count": 10,
     "metadata": {},
     "output_type": "execute_result"
    }
   ],
   "source": [
    "short_points.dtype"
   ]
  },
  {
   "cell_type": "code",
   "execution_count": 11,
   "id": "21a2f4cf-2f0a-45da-a213-3b2e44d8f7ae",
   "metadata": {},
   "outputs": [
    {
     "data": {
      "text/plain": [
       "(tensor([[0., 0.],\n",
       "         [0., 0.],\n",
       "         [0., 0.],\n",
       "         [0., 0.],\n",
       "         [0., 0.],\n",
       "         [0., 0.],\n",
       "         [0., 0.],\n",
       "         [0., 0.],\n",
       "         [0., 0.],\n",
       "         [0., 0.]], dtype=torch.float64),\n",
       " tensor([[1, 1],\n",
       "         [1, 1],\n",
       "         [1, 1],\n",
       "         [1, 1],\n",
       "         [1, 1],\n",
       "         [1, 1],\n",
       "         [1, 1],\n",
       "         [1, 1],\n",
       "         [1, 1],\n",
       "         [1, 1]], dtype=torch.int16))"
      ]
     },
     "execution_count": 11,
     "metadata": {},
     "output_type": "execute_result"
    }
   ],
   "source": [
    "# 使用相应的类型转换函数\n",
    "double_points = torch.zeros(10, 2).double()\n",
    "short_points = torch.ones(10, 2).short()\n",
    "double_points, short_points"
   ]
  },
  {
   "cell_type": "code",
   "execution_count": 13,
   "id": "688a76b6-8473-4fa2-bf76-acafcadb55f1",
   "metadata": {},
   "outputs": [
    {
     "data": {
      "text/plain": [
       "(tensor([[0., 0.],\n",
       "         [0., 0.],\n",
       "         [0., 0.],\n",
       "         [0., 0.],\n",
       "         [0., 0.],\n",
       "         [0., 0.],\n",
       "         [0., 0.],\n",
       "         [0., 0.],\n",
       "         [0., 0.],\n",
       "         [0., 0.]], dtype=torch.float64),\n",
       " tensor([[1, 1],\n",
       "         [1, 1],\n",
       "         [1, 1],\n",
       "         [1, 1],\n",
       "         [1, 1],\n",
       "         [1, 1],\n",
       "         [1, 1],\n",
       "         [1, 1],\n",
       "         [1, 1],\n",
       "         [1, 1]], dtype=torch.int16))"
      ]
     },
     "execution_count": 13,
     "metadata": {},
     "output_type": "execute_result"
    }
   ],
   "source": [
    "# 使用to方法\n",
    "double_points = torch.zeros(10, 2).to(torch.double)\n",
    "short_points = torch.ones(10, 2).to(dtype=torch.short)\n",
    "double_points, short_points"
   ]
  },
  {
   "cell_type": "markdown",
   "id": "f73aa9be-4f3f-408b-9521-a54e0bb23783",
   "metadata": {},
   "source": [
    "# 张量的API"
   ]
  },
  {
   "cell_type": "markdown",
   "id": "5f5f0907-13d6-4c7e-a8b6-7a702c0a34d4",
   "metadata": {},
   "source": [
    "### Pytorch官网：https://pytorch.org/docs/stable/index.html?spm=5176.28103460.0.0.297c5d27YPsilD"
   ]
  },
  {
   "cell_type": "code",
   "execution_count": null,
   "id": "c38faa88-8cb0-45bf-8b09-65c294496ae3",
   "metadata": {},
   "outputs": [],
   "source": []
  }
 ],
 "metadata": {
  "kernelspec": {
   "display_name": "Python 3 (ipykernel)",
   "language": "python",
   "name": "python3"
  },
  "language_info": {
   "codemirror_mode": {
    "name": "ipython",
    "version": 3
   },
   "file_extension": ".py",
   "mimetype": "text/x-python",
   "name": "python",
   "nbconvert_exporter": "python",
   "pygments_lexer": "ipython3",
   "version": "3.12.7"
  }
 },
 "nbformat": 4,
 "nbformat_minor": 5
}
