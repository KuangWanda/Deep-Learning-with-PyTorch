{
 "cells": [
  {
   "cell_type": "markdown",
   "id": "75549057-5f1a-4eeb-9023-dcea21c95517",
   "metadata": {},
   "source": [
    "## 4.3.2 加载葡萄酒数据张量"
   ]
  },
  {
   "cell_type": "raw",
   "id": "2ea72f9d-c0e3-401a-96f1-4ede681e995d",
   "metadata": {},
   "source": [
    "加载CSV文件：\n",
    "  1.python的csv模块\n",
    "  2.numpy\n",
    "  3.pandas"
   ]
  },
  {
   "cell_type": "code",
   "execution_count": 24,
   "id": "c9c06dff-8853-47f5-9eb2-f5fbbfbffa71",
   "metadata": {},
   "outputs": [],
   "source": [
    "import csv\n",
    "import numpy as np\n",
    "import torch"
   ]
  },
  {
   "cell_type": "code",
   "execution_count": 25,
   "id": "642766c8-5727-4a4c-b0c6-ebac23bb2079",
   "metadata": {},
   "outputs": [
    {
     "data": {
      "text/plain": [
       "array([[ 7.  ,  0.27,  0.36, ...,  0.45,  8.8 ,  6.  ],\n",
       "       [ 6.3 ,  0.3 ,  0.34, ...,  0.49,  9.5 ,  6.  ],\n",
       "       [ 8.1 ,  0.28,  0.4 , ...,  0.44, 10.1 ,  6.  ],\n",
       "       ...,\n",
       "       [ 6.5 ,  0.24,  0.19, ...,  0.46,  9.4 ,  6.  ],\n",
       "       [ 5.5 ,  0.29,  0.3 , ...,  0.38, 12.8 ,  7.  ],\n",
       "       [ 6.  ,  0.21,  0.38, ...,  0.32, 11.8 ,  6.  ]], dtype=float32)"
      ]
     },
     "execution_count": 25,
     "metadata": {},
     "output_type": "execute_result"
    }
   ],
   "source": [
    "wine_path = \"../dlwpt-code-master/data/p1ch4/tabular-wine/winequality-white.csv\"\n",
    "wine_numpy = np.loadtxt(wine_path, dtype=np.float32, delimiter=\";\", skiprows=1)  # 最后一个参数表示跳过第一行\n",
    "wine_numpy"
   ]
  },
  {
   "cell_type": "code",
   "execution_count": 26,
   "id": "7274e899-38fc-407b-8a21-3e8adc61c617",
   "metadata": {},
   "outputs": [
    {
     "data": {
      "text/plain": [
       "['fixed acidity',\n",
       " 'volatile acidity',\n",
       " 'citric acid',\n",
       " 'residual sugar',\n",
       " 'chlorides',\n",
       " 'free sulfur dioxide',\n",
       " 'total sulfur dioxide',\n",
       " 'density',\n",
       " 'pH',\n",
       " 'sulphates',\n",
       " 'alcohol',\n",
       " 'quality']"
      ]
     },
     "execution_count": 26,
     "metadata": {},
     "output_type": "execute_result"
    }
   ],
   "source": [
    "col_list = next(csv.reader(open(wine_path), delimiter=\";\"))\n",
    "col_list"
   ]
  },
  {
   "cell_type": "code",
   "execution_count": 27,
   "id": "ef0bf3d4-84b4-4b6f-b60f-3f31694f2cca",
   "metadata": {},
   "outputs": [
    {
     "data": {
      "text/plain": [
       "(torch.Size([4898, 12]), torch.float32)"
      ]
     },
     "execution_count": 27,
     "metadata": {},
     "output_type": "execute_result"
    }
   ],
   "source": [
    "wineq = torch.from_numpy(wine_numpy)\n",
    "wineq.shape, wineq.dtype"
   ]
  },
  {
   "cell_type": "markdown",
   "id": "ed913d18-41c5-45c1-9833-1b9e8a3d3327",
   "metadata": {},
   "source": [
    "## 4.3.3 表示分数"
   ]
  },
  {
   "cell_type": "code",
   "execution_count": 28,
   "id": "b419e8bb-e27a-4ac5-8a4d-f1ec07304ea7",
   "metadata": {},
   "outputs": [
    {
     "data": {
      "text/plain": [
       "(tensor([[ 7.0000,  0.2700,  0.3600,  ...,  3.0000,  0.4500,  8.8000],\n",
       "         [ 6.3000,  0.3000,  0.3400,  ...,  3.3000,  0.4900,  9.5000],\n",
       "         [ 8.1000,  0.2800,  0.4000,  ...,  3.2600,  0.4400, 10.1000],\n",
       "         ...,\n",
       "         [ 6.5000,  0.2400,  0.1900,  ...,  2.9900,  0.4600,  9.4000],\n",
       "         [ 5.5000,  0.2900,  0.3000,  ...,  3.3400,  0.3800, 12.8000],\n",
       "         [ 6.0000,  0.2100,  0.3800,  ...,  3.2600,  0.3200, 11.8000]]),\n",
       " torch.Size([4898, 11]))"
      ]
     },
     "execution_count": 28,
     "metadata": {},
     "output_type": "execute_result"
    }
   ],
   "source": [
    "data = wineq[:, :-1]\n",
    "data, data.shape"
   ]
  },
  {
   "cell_type": "code",
   "execution_count": 29,
   "id": "fa21ed15-9623-4e11-958c-212f698a550f",
   "metadata": {},
   "outputs": [
    {
     "data": {
      "text/plain": [
       "(tensor([6., 6., 6.,  ..., 6., 7., 6.]), torch.Size([4898]))"
      ]
     },
     "execution_count": 29,
     "metadata": {},
     "output_type": "execute_result"
    }
   ],
   "source": [
    "target = wineq[:, -1]\n",
    "target, target.shape"
   ]
  },
  {
   "cell_type": "code",
   "execution_count": 30,
   "id": "a60470b5-ed74-4721-bb4d-5e353eecff17",
   "metadata": {},
   "outputs": [],
   "source": [
    "target = target.long()"
   ]
  },
  {
   "cell_type": "markdown",
   "id": "31aa04d8-b9a5-4894-91b6-167071d4bec0",
   "metadata": {},
   "source": [
    "### 4.3.4 独热编码"
   ]
  },
  {
   "cell_type": "code",
   "execution_count": 31,
   "id": "c72beb8a-d38b-41b8-9b34-ef4217f0cf82",
   "metadata": {},
   "outputs": [
    {
     "data": {
      "text/plain": [
       "tensor([[0., 0., 0.,  ..., 0., 0., 0.],\n",
       "        [0., 0., 0.,  ..., 0., 0., 0.],\n",
       "        [0., 0., 0.,  ..., 0., 0., 0.],\n",
       "        ...,\n",
       "        [0., 0., 0.,  ..., 0., 0., 0.],\n",
       "        [0., 0., 0.,  ..., 1., 0., 0.],\n",
       "        [0., 0., 0.,  ..., 0., 0., 0.]])"
      ]
     },
     "execution_count": 31,
     "metadata": {},
     "output_type": "execute_result"
    }
   ],
   "source": [
    "target_onehot = torch.zeros(target.shape[0], 10)\n",
    "target_onehot.scatter_(1, target.unsqueeze(1), 1.0)  # 按列填充， 索引张量， 填充值"
   ]
  },
  {
   "cell_type": "markdown",
   "id": "63d2ba5f-6ccb-4b92-83f2-1794a3280138",
   "metadata": {},
   "source": [
    "## 4.3.5 何时分类"
   ]
  },
  {
   "cell_type": "code",
   "execution_count": 32,
   "id": "a8da4659-f7bc-4286-9b1b-cdf1a96b9876",
   "metadata": {},
   "outputs": [
    {
     "data": {
      "text/plain": [
       "(tensor([6.8548e+00, 2.7824e-01, 3.3419e-01, 6.3914e+00, 4.5772e-02, 3.5308e+01,\n",
       "         1.3836e+02, 9.9403e-01, 3.1883e+00, 4.8985e-01, 1.0514e+01]),\n",
       " torch.Size([11]))"
      ]
     },
     "execution_count": 32,
     "metadata": {},
     "output_type": "execute_result"
    }
   ],
   "source": [
    "data_mean = torch.mean(data, dim=0)\n",
    "data_mean, data_mean.shape"
   ]
  },
  {
   "cell_type": "code",
   "execution_count": 33,
   "id": "35acde72-b4d7-46c6-84ca-48469142b516",
   "metadata": {},
   "outputs": [
    {
     "data": {
      "text/plain": [
       "tensor([7.1211e-01, 1.0160e-02, 1.4646e-02, 2.5726e+01, 4.7733e-04, 2.8924e+02,\n",
       "        1.8061e+03, 8.9455e-06, 2.2801e-02, 1.3025e-02, 1.5144e+00])"
      ]
     },
     "execution_count": 33,
     "metadata": {},
     "output_type": "execute_result"
    }
   ],
   "source": [
    "data_var = torch.var(data, dim=0)\n",
    "data_var"
   ]
  },
  {
   "cell_type": "code",
   "execution_count": 34,
   "id": "29ac266c-4236-4204-8d97-284eaf8370ad",
   "metadata": {},
   "outputs": [
    {
     "data": {
      "text/plain": [
       "tensor([[ 1.7208e-01, -8.1761e-02,  2.1326e-01,  ..., -1.2468e+00,\n",
       "         -3.4915e-01, -1.3930e+00],\n",
       "        [-6.5743e-01,  2.1587e-01,  4.7996e-02,  ...,  7.3995e-01,\n",
       "          1.3422e-03, -8.2419e-01],\n",
       "        [ 1.4756e+00,  1.7450e-02,  5.4378e-01,  ...,  4.7505e-01,\n",
       "         -4.3677e-01, -3.3663e-01],\n",
       "        ...,\n",
       "        [-4.2043e-01, -3.7940e-01, -1.1915e+00,  ..., -1.3130e+00,\n",
       "         -2.6153e-01, -9.0545e-01],\n",
       "        [-1.6054e+00,  1.1666e-01, -2.8253e-01,  ...,  1.0049e+00,\n",
       "         -9.6251e-01,  1.8574e+00],\n",
       "        [-1.0129e+00, -6.7703e-01,  3.7852e-01,  ...,  4.7505e-01,\n",
       "         -1.4882e+00,  1.0448e+00]])"
      ]
     },
     "execution_count": 34,
     "metadata": {},
     "output_type": "execute_result"
    }
   ],
   "source": [
    "data_normalized = (data - data_mean) / torch.sqrt(data_var)\n",
    "data_normalized"
   ]
  },
  {
   "cell_type": "markdown",
   "id": "4137e350-67c6-471a-a520-40b43d88b518",
   "metadata": {},
   "source": [
    "## 4.3.6 寻找阈值"
   ]
  },
  {
   "cell_type": "code",
   "execution_count": 35,
   "id": "f9c773d1-e096-4067-b5bf-cebd6e560780",
   "metadata": {},
   "outputs": [
    {
     "data": {
      "text/plain": [
       "(torch.Size([4898]),\n",
       " torch.bool,\n",
       " tensor([False, False, False,  ..., False, False, False]),\n",
       " tensor(20))"
      ]
     },
     "execution_count": 35,
     "metadata": {},
     "output_type": "execute_result"
    }
   ],
   "source": [
    "bad_indexes = target <= 3\n",
    "bad_indexes.shape, bad_indexes.dtype, bad_indexes, bad_indexes.sum()"
   ]
  },
  {
   "cell_type": "code",
   "execution_count": 36,
   "id": "cd2dbe97-f4f0-40ef-85cc-ac6f63337082",
   "metadata": {},
   "outputs": [
    {
     "data": {
      "text/plain": [
       "torch.Size([20, 11])"
      ]
     },
     "execution_count": 36,
     "metadata": {},
     "output_type": "execute_result"
    }
   ],
   "source": [
    "bad_data = data[bad_indexes]\n",
    "bad_data.shape"
   ]
  },
  {
   "cell_type": "code",
   "execution_count": 37,
   "id": "e27be7e6-438e-42d2-bb59-9ba3229146b4",
   "metadata": {},
   "outputs": [],
   "source": [
    "bad_data = data[target <= 3]\n",
    "mid_data = data[(target > 3) & (target < 7)]\n",
    "good_data = data[target >= 7]"
   ]
  },
  {
   "cell_type": "code",
   "execution_count": 38,
   "id": "1f32c942-1b3e-4bdb-a17f-c1f52b135e84",
   "metadata": {},
   "outputs": [
    {
     "name": "stdout",
     "output_type": "stream",
     "text": [
      " 0 fixed acidity               7.60   6.89   6.73\n",
      " 1 volatile acidity            0.33   0.28   0.27\n",
      " 2 citric acid                 0.34   0.34   0.33\n",
      " 3 residual sugar              6.39   6.71   5.26\n",
      " 4 chlorides                   0.05   0.05   0.04\n",
      " 5 free sulfur dioxide        53.33  35.42  34.55\n",
      " 6 total sulfur dioxide      170.60 141.83 125.25\n",
      " 7 density                     0.99   0.99   0.99\n",
      " 8 pH                          3.19   3.18   3.22\n",
      " 9 sulphates                   0.47   0.49   0.50\n",
      "10 alcohol                    10.34  10.26  11.42\n"
     ]
    }
   ],
   "source": [
    "bad_mean = torch.mean(bad_data, dim=0)\n",
    "mid_mean = torch.mean(mid_data, dim=0)\n",
    "good_mean = torch.mean(good_data, dim=0)\n",
    "\n",
    "for i, args in enumerate(zip(col_list, bad_mean, mid_mean, good_mean)):\n",
    "    # print('{:2} {:20} {:6.2f} {:6.2f} {:6.2f}'.format(i, *args))\n",
    "    print(f\"{i:2} {args[0]:25} {args[1]:6.2f} {args[2]:6.2f} {args[3]:6.2f}\")"
   ]
  },
  {
   "cell_type": "code",
   "execution_count": 42,
   "id": "bbf28323-4ce0-4f37-b888-962cf82da32b",
   "metadata": {},
   "outputs": [
    {
     "data": {
      "text/plain": [
       "(torch.Size([4898]),\n",
       " torch.bool,\n",
       " tensor(2727),\n",
       " tensor([False,  True,  True,  ...,  True,  True,  True]))"
      ]
     },
     "execution_count": 42,
     "metadata": {},
     "output_type": "execute_result"
    }
   ],
   "source": [
    "total_sulfur_hreshold = 141.83\n",
    "total_sulfur_data = data[:, 6]\n",
    "predicted_indexes = torch.lt(total_sulfur_data, total_sulfur_hreshold)  # 选择二氧化硫总量作为筛选标准得到的好酒索引\n",
    "predicted_indexes.shape, predicted_indexes.dtype, predicted_indexes.sum(), predicted_indexes"
   ]
  },
  {
   "cell_type": "code",
   "execution_count": 43,
   "id": "85d4c90d-940a-40a4-8423-d4480f28fbf2",
   "metadata": {},
   "outputs": [
    {
     "data": {
      "text/plain": [
       "(torch.Size([4898]), torch.bool, tensor(3258))"
      ]
     },
     "execution_count": 43,
     "metadata": {},
     "output_type": "execute_result"
    }
   ],
   "source": [
    "actual_indexes = target > 5  # 实际上的好酒索引\n",
    "actual_indexes.shape, actual_indexes.dtype, actual_indexes.sum()"
   ]
  },
  {
   "cell_type": "code",
   "execution_count": 46,
   "id": "1360e078-f713-4ad9-834e-59caf3f1dfcd",
   "metadata": {},
   "outputs": [
    {
     "data": {
      "text/plain": [
       "(2018, 0.74000733406674, 0.6193984039287906)"
      ]
     },
     "execution_count": 46,
     "metadata": {},
     "output_type": "execute_result"
    }
   ],
   "source": [
    "n_matches = torch.sum(actual_indexes & predicted_indexes).item()\n",
    "n_predicted = torch.sum(predicted_indexes).item()\n",
    "n_actual = torch.sum(actual_indexes).item()\n",
    "\n",
    "n_matches, n_matches / n_predicted, n_matches / n_actual"
   ]
  },
  {
   "cell_type": "code",
   "execution_count": null,
   "id": "74be53c8-2e2a-418b-9a81-6c66db1c3212",
   "metadata": {},
   "outputs": [],
   "source": []
  }
 ],
 "metadata": {
  "kernelspec": {
   "display_name": "Python 3 (ipykernel)",
   "language": "python",
   "name": "python3"
  },
  "language_info": {
   "codemirror_mode": {
    "name": "ipython",
    "version": 3
   },
   "file_extension": ".py",
   "mimetype": "text/x-python",
   "name": "python",
   "nbconvert_exporter": "python",
   "pygments_lexer": "ipython3",
   "version": "3.12.7"
  }
 },
 "nbformat": 4,
 "nbformat_minor": 5
}
