{
 "cells": [
  {
   "cell_type": "markdown",
   "id": "2d44193b-f434-4b19-a371-63efcffabed7",
   "metadata": {},
   "source": [
    "## 4.5.1 将文本转化为数字"
   ]
  },
  {
   "cell_type": "code",
   "execution_count": 1,
   "id": "a586257d-d2f3-4d00-b880-b05670e06d67",
   "metadata": {},
   "outputs": [],
   "source": [
    "import torch"
   ]
  },
  {
   "cell_type": "code",
   "execution_count": 2,
   "id": "9e198a52-9722-4a46-ad5b-c0c8b2730862",
   "metadata": {},
   "outputs": [],
   "source": [
    "with open('../dlwpt-code-master/data/p1ch4/jane-austen/1342-0.txt', encoding='utf-8') as f:\n",
    "    text = f.read()"
   ]
  },
  {
   "cell_type": "markdown",
   "id": "788486bb-eac6-4e9e-a474-a95438f7141d",
   "metadata": {},
   "source": [
    "## 4.5.2 独热字符编码"
   ]
  },
  {
   "cell_type": "code",
   "execution_count": 3,
   "id": "e3caa1cd-98a2-41ba-9b42-8d08422fcaf9",
   "metadata": {},
   "outputs": [
    {
     "data": {
      "text/plain": [
       "8220"
      ]
     },
     "execution_count": 3,
     "metadata": {},
     "output_type": "execute_result"
    }
   ],
   "source": [
    "lines = text.split('\\n')\n",
    "line = lines[200]\n",
    "ord('“')"
   ]
  },
  {
   "cell_type": "code",
   "execution_count": 4,
   "id": "78666060-d951-426e-9d22-a380d8446d0c",
   "metadata": {},
   "outputs": [
    {
     "data": {
      "text/plain": [
       "torch.Size([70, 128])"
      ]
     },
     "execution_count": 4,
     "metadata": {},
     "output_type": "execute_result"
    }
   ],
   "source": [
    "letter_t = torch.zeros(len(line), 128)\n",
    "letter_t.shape"
   ]
  },
  {
   "cell_type": "code",
   "execution_count": 5,
   "id": "6cc8cddb-0fab-4701-bca8-36502025ab38",
   "metadata": {},
   "outputs": [
    {
     "name": "stdout",
     "output_type": "stream",
     "text": [
      "tensor([[1., 0., 0.,  ..., 0., 0., 0.],\n",
      "        [0., 0., 0.,  ..., 0., 0., 0.],\n",
      "        [0., 0., 0.,  ..., 0., 0., 0.],\n",
      "        ...,\n",
      "        [0., 0., 0.,  ..., 0., 0., 0.],\n",
      "        [0., 0., 0.,  ..., 0., 0., 0.],\n",
      "        [0., 0., 0.,  ..., 0., 0., 0.]]) torch.Size([70, 128])\n",
      "tensor(1.)\n"
     ]
    }
   ],
   "source": [
    "for i, letter in enumerate(line.lower().strip()):  # 将所有字符转变成为小写并去除开头和结尾的空格\n",
    "    letter_index = ord(letter) if ord(letter) < 128 else 0\n",
    "    letter_t[i][letter_index] = 1\n",
    "print(letter_t, letter_t.shape)\n",
    "print(letter_t[1][105])"
   ]
  },
  {
   "cell_type": "markdown",
   "id": "7b4e9683-865e-46ca-9779-25e7199be339",
   "metadata": {},
   "source": [
    "## 4.5.3 独热编码整个词"
   ]
  },
  {
   "cell_type": "code",
   "execution_count": 6,
   "id": "02f57867-5544-4441-a272-11373a5392e3",
   "metadata": {},
   "outputs": [
    {
     "data": {
      "text/plain": [
       "('“Impossible, Mr. Bennet, impossible, when I am not acquainted with him',\n",
       " ['impossible',\n",
       "  'mr',\n",
       "  'bennet',\n",
       "  'impossible',\n",
       "  'when',\n",
       "  'i',\n",
       "  'am',\n",
       "  'not',\n",
       "  'acquainted',\n",
       "  'with',\n",
       "  'him'])"
      ]
     },
     "execution_count": 6,
     "metadata": {},
     "output_type": "execute_result"
    }
   ],
   "source": [
    "def clean_words(input_str):\n",
    "    punctuation = '.,;:\"!?“”_-'\n",
    "    word_list = input_str.lower().replace('\\n', ' ').split()\n",
    "    word_list = [word.strip(punctuation) for word in word_list]\n",
    "    return word_list\n",
    "\n",
    "words_in_line = clean_words(line)\n",
    "line, words_in_line"
   ]
  },
  {
   "cell_type": "code",
   "execution_count": 7,
   "id": "e309fda4-66c7-43e4-9fad-2b744c085fcc",
   "metadata": {},
   "outputs": [
    {
     "data": {
      "text/plain": [
       "(7261, 3394)"
      ]
     },
     "execution_count": 7,
     "metadata": {},
     "output_type": "execute_result"
    }
   ],
   "source": [
    "word_list = sorted(set(clean_words(text)))\n",
    "word2index_dict = {word: i for (i, word) in enumerate(word_list)}\n",
    "\n",
    "len(word2index_dict), word2index_dict['impossible']"
   ]
  },
  {
   "cell_type": "code",
   "execution_count": 8,
   "id": "e522406e-d0e6-4203-8312-95f972c7abb5",
   "metadata": {},
   "outputs": [
    {
     "name": "stdout",
     "output_type": "stream",
     "text": [
      " 0 3394 impossible\n",
      " 1 4305 mr\n",
      " 2  813 bennet\n",
      " 3 3394 impossible\n",
      " 4 7078 when\n",
      " 5 3315 i\n",
      " 6  415 am\n",
      " 7 4436 not\n",
      " 8  239 acquainted\n",
      " 9 7148 with\n",
      "10 3215 him\n",
      "torch.Size([11, 7261])\n"
     ]
    }
   ],
   "source": [
    "word_t = torch.zeros(len(words_in_line), len(word2index_dict))\n",
    "for i, word in enumerate(words_in_line):\n",
    "    word_index = word2index_dict[word]\n",
    "    word_t[i][word_index] = 1\n",
    "    print(f\"{i:2} {word_index:4} {word}\")\n",
    "\n",
    "print(word_t.shape)"
   ]
  },
  {
   "cell_type": "markdown",
   "id": "f6a4707b-9091-4ad7-b7a8-b7e0088f7183",
   "metadata": {},
   "source": [
    "## 4.5.4 文本嵌入"
   ]
  },
  {
   "cell_type": "code",
   "execution_count": null,
   "id": "5fda0a4b-d98a-4a7d-867b-7f30e487029b",
   "metadata": {},
   "outputs": [],
   "source": []
  }
 ],
 "metadata": {
  "kernelspec": {
   "display_name": "Python 3 (ipykernel)",
   "language": "python",
   "name": "python3"
  },
  "language_info": {
   "codemirror_mode": {
    "name": "ipython",
    "version": 3
   },
   "file_extension": ".py",
   "mimetype": "text/x-python",
   "name": "python",
   "nbconvert_exporter": "python",
   "pygments_lexer": "ipython3",
   "version": "3.12.7"
  }
 },
 "nbformat": 4,
 "nbformat_minor": 5
}
