{
 "cells": [
  {
   "cell_type": "code",
   "execution_count": 2,
   "id": "019527db-b5b4-48ae-af93-8ae9008461ef",
   "metadata": {},
   "outputs": [],
   "source": [
    "import imageio\n",
    "import torch\n",
    "import os"
   ]
  },
  {
   "cell_type": "code",
   "execution_count": 3,
   "id": "88957083-8ce4-4f6d-90ee-07c5991f54e7",
   "metadata": {},
   "outputs": [
    {
     "data": {
      "text/plain": [
       "(torch.Size([3, 2137, 1180]),\n",
       " torch.Size([3, 195, 259]),\n",
       " torch.Size([3, 177, 187]))"
      ]
     },
     "execution_count": 3,
     "metadata": {},
     "output_type": "execute_result"
    }
   ],
   "source": [
    "def Pic2Tensor(pic_dir):\n",
    "    picture = imageio.imread_v2(pic_dir)\n",
    "    pic_tensor = torch.from_numpy(picture)\n",
    "    pic_tensor = pic_tensor.permute(2, 0, 1)\n",
    "    return pic_tensor\n",
    "\n",
    "blue = Pic2Tensor(\"../blue.jpg\")\n",
    "red = Pic2Tensor(\"../red.png\")\n",
    "green = Pic2Tensor(\"../green.jpeg\")\n",
    "\n",
    "blue.shape, red.shape, green.shape"
   ]
  },
  {
   "cell_type": "code",
   "execution_count": 4,
   "id": "e09e00c6-4605-451e-b775-471be3ef6009",
   "metadata": {},
   "outputs": [
    {
     "name": "stdout",
     "output_type": "stream",
     "text": [
      "R pipe =  88.17103576660156\n",
      "G pipe = 203.8483428955078\n",
      "B pipe = 254.70855712890625\n",
      "\n",
      "\n",
      "R pipe =  255.0\n",
      "G pipe = 0.0\n",
      "B pipe = 0.0\n",
      "\n",
      "\n",
      "R pipe =  9.0\n",
      "G pipe = 121.0\n",
      "B pipe = 49.0\n",
      "\n",
      "\n"
     ]
    }
   ],
   "source": [
    "def Tensor_Mean(tensor):\n",
    "    tensor = tensor.float()\n",
    "    print(\"R pipe = \", torch.mean(tensor[0]).item())\n",
    "    print(f\"G pipe = {torch.mean(tensor[1])}\")\n",
    "    print(f\"B pipe = {torch.mean(tensor[2])}\")\n",
    "    print(\"\\n\")\n",
    "\n",
    "\n",
    "Tensor_Mean(blue)\n",
    "Tensor_Mean(red)\n",
    "Tensor_Mean(green)"
   ]
  },
  {
   "cell_type": "code",
   "execution_count": 43,
   "id": "c7b4108f-9dc1-461a-afdc-c4ac0abaf7be",
   "metadata": {},
   "outputs": [
    {
     "data": {
      "text/plain": [
       "tensor([[[ 1.,  2.],\n",
       "         [ 3.,  4.]],\n",
       "\n",
       "        [[ 5.,  6.],\n",
       "         [ 7.,  8.]],\n",
       "\n",
       "        [[ 9., 10.],\n",
       "         [11., 12.]]])"
      ]
     },
     "execution_count": 43,
     "metadata": {},
     "output_type": "execute_result"
    }
   ],
   "source": [
    "a = torch.arange(1, 13)\n",
    "a = a.reshape(3, 2, 2).float()\n",
    "a"
   ]
  },
  {
   "cell_type": "code",
   "execution_count": 44,
   "id": "35ad7b44-c357-4e26-ab10-d61a2a1369dc",
   "metadata": {},
   "outputs": [
    {
     "data": {
      "text/plain": [
       "tensor([0.2000, 0.5000, 0.3000])"
      ]
     },
     "execution_count": 44,
     "metadata": {},
     "output_type": "execute_result"
    }
   ],
   "source": [
    "weight = torch.tensor([0.2, 0.5, 0.3])\n",
    "weight"
   ]
  },
  {
   "cell_type": "code",
   "execution_count": 38,
   "id": "74b0ddc6-20c0-461c-b3aa-189685cc6184",
   "metadata": {},
   "outputs": [
    {
     "data": {
      "text/plain": [
       "tensor([[[0.2000, 0.4000],\n",
       "         [0.6000, 0.8000]],\n",
       "\n",
       "        [[2.5000, 3.0000],\n",
       "         [3.5000, 4.0000]],\n",
       "\n",
       "        [[2.7000, 3.0000],\n",
       "         [3.3000, 3.6000]]])"
      ]
     },
     "execution_count": 38,
     "metadata": {},
     "output_type": "execute_result"
    }
   ],
   "source": [
    "for i in range(3):\n",
    "    a[i] = weight[i] * a[i]\n",
    "a"
   ]
  },
  {
   "cell_type": "code",
   "execution_count": 39,
   "id": "0db2ce8e-f524-44c2-aac6-7aa59a410c06",
   "metadata": {},
   "outputs": [
    {
     "data": {
      "text/plain": [
       "tensor(2.3000)"
      ]
     },
     "execution_count": 39,
     "metadata": {},
     "output_type": "execute_result"
    }
   ],
   "source": [
    "a.mean()"
   ]
  },
  {
   "cell_type": "code",
   "execution_count": 45,
   "id": "0f0d300c-0545-497d-a095-7356058a2fb6",
   "metadata": {},
   "outputs": [
    {
     "name": "stdout",
     "output_type": "stream",
     "text": [
      "Global weighted mean: 2.299999952316284\n"
     ]
    },
    {
     "data": {
      "text/plain": [
       "(None,\n",
       " tensor([[[0.2000, 0.4000],\n",
       "          [0.6000, 0.8000]],\n",
       " \n",
       "         [[2.5000, 3.0000],\n",
       "          [3.5000, 4.0000]],\n",
       " \n",
       "         [[2.7000, 3.0000],\n",
       "          [3.3000, 3.6000]]]))"
      ]
     },
     "execution_count": 45,
     "metadata": {},
     "output_type": "execute_result"
    }
   ],
   "source": [
    "weight_expanded = weight.view(3, 1, 1).expand_as(a)\n",
    "\n",
    "# 每个元素乘以对应的权重\n",
    "weighted_a = a * weight_expanded\n",
    "\n",
    "# 计算所有元素的加权均值\n",
    "global_weighted_mean = weighted_a.mean().item()\n",
    "\n",
    "print(\"Global weighted mean:\", global_weighted_mean), weighted_a"
   ]
  },
  {
   "cell_type": "code",
   "execution_count": null,
   "id": "08e4ebfc-6866-4aa8-bea6-da76d0c2000a",
   "metadata": {},
   "outputs": [],
   "source": []
  }
 ],
 "metadata": {
  "kernelspec": {
   "display_name": "Python 3 (ipykernel)",
   "language": "python",
   "name": "python3"
  },
  "language_info": {
   "codemirror_mode": {
    "name": "ipython",
    "version": 3
   },
   "file_extension": ".py",
   "mimetype": "text/x-python",
   "name": "python",
   "nbconvert_exporter": "python",
   "pygments_lexer": "ipython3",
   "version": "3.12.7"
  }
 },
 "nbformat": 4,
 "nbformat_minor": 5
}
