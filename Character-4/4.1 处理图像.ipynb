{
 "cells": [
  {
   "cell_type": "markdown",
   "id": "e104c6c0-4598-4580-856b-ad8503292ea6",
   "metadata": {},
   "source": [
    "## 4.1.2 加载图像文件"
   ]
  },
  {
   "cell_type": "code",
   "execution_count": 1,
   "id": "9959d5bd-3d74-4072-80f8-a44e7400a47f",
   "metadata": {},
   "outputs": [],
   "source": [
    "import imageio\n",
    "import torch\n",
    "import os"
   ]
  },
  {
   "cell_type": "code",
   "execution_count": 2,
   "id": "a7b69db2-5876-4666-b51d-8d494884792d",
   "metadata": {},
   "outputs": [
    {
     "data": {
      "text/plain": [
       "(720, 1280, 3)"
      ]
     },
     "execution_count": 2,
     "metadata": {},
     "output_type": "execute_result"
    }
   ],
   "source": [
    "img_arr = imageio.imread_v2('../dlwpt-code-master/data/p1ch4/image-dog/bobby.jpg')\n",
    "img_arr.shape"
   ]
  },
  {
   "cell_type": "markdown",
   "id": "cd58ece0-477d-4bc8-89b3-71c47f39aa75",
   "metadata": {},
   "source": [
    "## 4.1.3 改变布局"
   ]
  },
  {
   "cell_type": "code",
   "execution_count": 3,
   "id": "72484052-638e-48c2-82c8-4d2eed1633ba",
   "metadata": {},
   "outputs": [
    {
     "data": {
      "text/plain": [
       "torch.Size([3, 720, 1280])"
      ]
     },
     "execution_count": 3,
     "metadata": {},
     "output_type": "execute_result"
    }
   ],
   "source": [
    "img = torch.from_numpy(img_arr)\n",
    "out = img.permute(2, 0, 1)  # 重新更改布局\n",
    "out.shape"
   ]
  },
  {
   "cell_type": "code",
   "execution_count": 4,
   "id": "83fb8f3e-1c5b-4637-a4fb-765a793c05f8",
   "metadata": {},
   "outputs": [],
   "source": [
    "# 创建一个多图的数据集\n",
    "batch_size = 3\n",
    "batch = torch.zeros(batch_size, 3, 256, 256, dtype=torch.uint8)"
   ]
  },
  {
   "cell_type": "code",
   "execution_count": 6,
   "id": "15a8ded5-54f0-4678-8901-2b5b05b22c7c",
   "metadata": {},
   "outputs": [
    {
     "name": "stdout",
     "output_type": "stream",
     "text": [
      "3\n",
      "torch.Size([3, 256, 256])\n",
      "torch.Size([3, 256, 256])\n",
      "torch.Size([3, 256, 256])\n"
     ]
    },
    {
     "data": {
      "text/plain": [
       "torch.Size([3, 3, 256, 256])"
      ]
     },
     "execution_count": 6,
     "metadata": {},
     "output_type": "execute_result"
    }
   ],
   "source": [
    "data_dir = '../dlwpt-code-master/data/p1ch4/image-cats/'\n",
    "filenames = [name for name in os.listdir(data_dir)\n",
    "             if os.path.splitext(name)[-1] == '.png']\n",
    "print(len(filenames))\n",
    "for i, filename in enumerate(filenames):\n",
    "    img_arr = imageio.imread_v2(os.path.join(data_dir, filename))\n",
    "    img_t = torch.from_numpy(img_arr)\n",
    "    img_t = img_t.permute(2, 0, 1)\n",
    "    img_t = img_t[:3]  # 只保留前三个通道，有时图像还有一个表示透明度的alpha通道\n",
    "    batch[i] = img_t\n",
    "batch.shape"
   ]
  },
  {
   "cell_type": "markdown",
   "id": "2c3d59aa-5261-4eb2-a979-2920cede96c9",
   "metadata": {},
   "source": [
    "## 4.1.4 正规化数据"
   ]
  },
  {
   "cell_type": "code",
   "execution_count": 6,
   "id": "3fc37f47-f8d3-4eec-b1e1-fd11c3c34591",
   "metadata": {},
   "outputs": [],
   "source": [
    "batch = batch.float()\n",
    "batch /= 255.0"
   ]
  },
  {
   "cell_type": "code",
   "execution_count": 7,
   "id": "f7c59ab8-6f0f-424e-a14c-571d08083ae1",
   "metadata": {},
   "outputs": [
    {
     "name": "stdout",
     "output_type": "stream",
     "text": [
      "torch.Size([3, 256, 256])\n",
      "torch.Size([3, 256, 256])\n",
      "torch.Size([3, 256, 256])\n"
     ]
    }
   ],
   "source": [
    "n_channels = batch.shape[1]\n",
    "for c in range(n_channels):\n",
    "    mean = torch.mean(batch[:, c])\n",
    "    print(batch[:, c].shape)\n",
    "    std = torch.std(batch[:, c])\n",
    "    batch[:, c] = (batch[:, c] - mean) / std"
   ]
  },
  {
   "cell_type": "code",
   "execution_count": 8,
   "id": "b2948035-25bb-413b-abb6-d7aaff536a59",
   "metadata": {},
   "outputs": [
    {
     "data": {
      "text/plain": [
       "(tensor([[[ 1.,  2.,  3.],\n",
       "          [ 4.,  5.,  6.]],\n",
       " \n",
       "         [[ 7.,  8.,  9.],\n",
       "          [10., 11., 12.]]], dtype=torch.float64),\n",
       " tensor(3.5000, dtype=torch.float64))"
      ]
     },
     "execution_count": 8,
     "metadata": {},
     "output_type": "execute_result"
    }
   ],
   "source": [
    "a = torch.tensor([1, 2, 3, 4, 5, 6, 7, 8, 9, 10, 11, 12], dtype=float).reshape(2, 2, 3)\n",
    "a, torch.mean(a[0])"
   ]
  },
  {
   "cell_type": "code",
   "execution_count": 9,
   "id": "e4670177-f9bd-485a-83df-b9fe4cb1de0b",
   "metadata": {},
   "outputs": [
    {
     "data": {
      "text/plain": [
       "tensor(5.5000, dtype=torch.float64)"
      ]
     },
     "execution_count": 9,
     "metadata": {},
     "output_type": "execute_result"
    }
   ],
   "source": [
    "torch.mean(a[:, :, 0])"
   ]
  },
  {
   "cell_type": "code",
   "execution_count": null,
   "id": "ef115cba-75f2-43ae-8732-aa208d8a61da",
   "metadata": {},
   "outputs": [],
   "source": []
  }
 ],
 "metadata": {
  "kernelspec": {
   "display_name": "Python 3 (ipykernel)",
   "language": "python",
   "name": "python3"
  },
  "language_info": {
   "codemirror_mode": {
    "name": "ipython",
    "version": 3
   },
   "file_extension": ".py",
   "mimetype": "text/x-python",
   "name": "python",
   "nbconvert_exporter": "python",
   "pygments_lexer": "ipython3",
   "version": "3.12.7"
  }
 },
 "nbformat": 4,
 "nbformat_minor": 5
}
